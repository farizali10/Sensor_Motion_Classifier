{
 "cells": [
  {
   "cell_type": "code",
   "execution_count": 518,
   "id": "d2d6240e-a319-4eab-8c5b-4e8da0f569d8",
   "metadata": {},
   "outputs": [],
   "source": [
    "import warnings\n",
    "# Set the warnings to be ignored\n",
    "warnings.filterwarnings('ignore')\n",
    "\n",
    "import os\n",
    "import sys\n",
    "import logging\n",
    "import pandas as pd \n",
    "import numpy as np \n",
    "from sklearn.linear_model  import Ridge,Lasso,RidgeCV, LassoCV, ElasticNet, ElasticNetCV, LogisticRegression\n",
    "from sklearn.model_selection import train_test_split\n",
    "from sklearn.metrics import accuracy_score, confusion_matrix, roc_curve, roc_auc_score\n",
    "import matplotlib.pyplot as plt\n",
    "from scipy import stats\n",
    "import seaborn as sns\n",
    "import pickle"
   ]
  },
  {
   "cell_type": "code",
   "execution_count": 519,
   "id": "e8ef65b2-0251-47fd-a373-c7498a594f82",
   "metadata": {},
   "outputs": [],
   "source": [
    "df = pd.read_csv(\"D:\\Data-Science-D-drive\\sensor_placement_LogisticRegression\\data\\sensor_placement\\df_resampled.csv\")"
   ]
  },
  {
   "cell_type": "code",
   "execution_count": 520,
   "id": "5a79f6d3-9ecf-41ad-952b-99190144af5a",
   "metadata": {},
   "outputs": [
    {
     "data": {
      "text/html": [
       "<div>\n",
       "<style scoped>\n",
       "    .dataframe tbody tr th:only-of-type {\n",
       "        vertical-align: middle;\n",
       "    }\n",
       "\n",
       "    .dataframe tbody tr th {\n",
       "        vertical-align: top;\n",
       "    }\n",
       "\n",
       "    .dataframe thead th {\n",
       "        text-align: right;\n",
       "    }\n",
       "</style>\n",
       "<table border=\"1\" class=\"dataframe\">\n",
       "  <thead>\n",
       "    <tr style=\"text-align: right;\">\n",
       "      <th></th>\n",
       "      <th>Time</th>\n",
       "      <th>avg_rss12</th>\n",
       "      <th>var_rss12</th>\n",
       "      <th>avg_rss13</th>\n",
       "      <th>var_rss13</th>\n",
       "      <th>avg_rss23</th>\n",
       "      <th>var_rss23</th>\n",
       "      <th>Output</th>\n",
       "    </tr>\n",
       "  </thead>\n",
       "  <tbody>\n",
       "    <tr>\n",
       "      <th>0</th>\n",
       "      <td>1.069633</td>\n",
       "      <td>0.766911</td>\n",
       "      <td>-0.431809</td>\n",
       "      <td>2.254039</td>\n",
       "      <td>0.127606</td>\n",
       "      <td>2.528193</td>\n",
       "      <td>-0.795727</td>\n",
       "      <td>bending1</td>\n",
       "    </tr>\n",
       "    <tr>\n",
       "      <th>1</th>\n",
       "      <td>1.076813</td>\n",
       "      <td>-0.590542</td>\n",
       "      <td>-0.388056</td>\n",
       "      <td>-1.512858</td>\n",
       "      <td>1.405780</td>\n",
       "      <td>1.893224</td>\n",
       "      <td>-0.070364</td>\n",
       "      <td>bending1</td>\n",
       "    </tr>\n",
       "    <tr>\n",
       "      <th>2</th>\n",
       "      <td>1.091174</td>\n",
       "      <td>-0.500045</td>\n",
       "      <td>-0.431809</td>\n",
       "      <td>-0.591224</td>\n",
       "      <td>-0.609801</td>\n",
       "      <td>1.321752</td>\n",
       "      <td>-0.740403</td>\n",
       "      <td>bending1</td>\n",
       "    </tr>\n",
       "    <tr>\n",
       "      <th>3</th>\n",
       "      <td>1.141435</td>\n",
       "      <td>0.721663</td>\n",
       "      <td>-0.247077</td>\n",
       "      <td>1.814568</td>\n",
       "      <td>1.092381</td>\n",
       "      <td>2.591690</td>\n",
       "      <td>-0.900229</td>\n",
       "      <td>bending1</td>\n",
       "    </tr>\n",
       "    <tr>\n",
       "      <th>4</th>\n",
       "      <td>1.148616</td>\n",
       "      <td>-0.138058</td>\n",
       "      <td>-0.524174</td>\n",
       "      <td>0.119464</td>\n",
       "      <td>0.029285</td>\n",
       "      <td>2.337703</td>\n",
       "      <td>-0.611313</td>\n",
       "      <td>bending1</td>\n",
       "    </tr>\n",
       "  </tbody>\n",
       "</table>\n",
       "</div>"
      ],
      "text/plain": [
       "       Time  avg_rss12  var_rss12  avg_rss13  var_rss13  avg_rss23  var_rss23  \\\n",
       "0  1.069633   0.766911  -0.431809   2.254039   0.127606   2.528193  -0.795727   \n",
       "1  1.076813  -0.590542  -0.388056  -1.512858   1.405780   1.893224  -0.070364   \n",
       "2  1.091174  -0.500045  -0.431809  -0.591224  -0.609801   1.321752  -0.740403   \n",
       "3  1.141435   0.721663  -0.247077   1.814568   1.092381   2.591690  -0.900229   \n",
       "4  1.148616  -0.138058  -0.524174   0.119464   0.029285   2.337703  -0.611313   \n",
       "\n",
       "     Output  \n",
       "0  bending1  \n",
       "1  bending1  \n",
       "2  bending1  \n",
       "3  bending1  \n",
       "4  bending1  "
      ]
     },
     "execution_count": 520,
     "metadata": {},
     "output_type": "execute_result"
    }
   ],
   "source": [
    "df.head()"
   ]
  },
  {
   "cell_type": "markdown",
   "id": "171e9d93-55f7-4606-9a5c-ab091e1ae19c",
   "metadata": {},
   "source": [
    "# Loading Dependent and Independent Features"
   ]
  },
  {
   "cell_type": "code",
   "execution_count": 521,
   "id": "ed3960f3-4bbc-4816-b552-f88e6a1e6b9a",
   "metadata": {},
   "outputs": [],
   "source": [
    "x = pd.read_csv(\"D:\\Data-Science-D-drive\\sensor_placement_LogisticRegression\\data\\sensor_placement\\X_scaled_resampled.csv\")"
   ]
  },
  {
   "cell_type": "code",
   "execution_count": 522,
   "id": "3b00f221-85c4-459d-a32d-ce786ce35d1e",
   "metadata": {},
   "outputs": [
    {
     "data": {
      "text/html": [
       "<div>\n",
       "<style scoped>\n",
       "    .dataframe tbody tr th:only-of-type {\n",
       "        vertical-align: middle;\n",
       "    }\n",
       "\n",
       "    .dataframe tbody tr th {\n",
       "        vertical-align: top;\n",
       "    }\n",
       "\n",
       "    .dataframe thead th {\n",
       "        text-align: right;\n",
       "    }\n",
       "</style>\n",
       "<table border=\"1\" class=\"dataframe\">\n",
       "  <thead>\n",
       "    <tr style=\"text-align: right;\">\n",
       "      <th></th>\n",
       "      <th>Time</th>\n",
       "      <th>avg_rss12</th>\n",
       "      <th>var_rss12</th>\n",
       "      <th>avg_rss13</th>\n",
       "      <th>var_rss13</th>\n",
       "      <th>avg_rss23</th>\n",
       "      <th>var_rss23</th>\n",
       "    </tr>\n",
       "  </thead>\n",
       "  <tbody>\n",
       "    <tr>\n",
       "      <th>0</th>\n",
       "      <td>1.069633</td>\n",
       "      <td>0.766911</td>\n",
       "      <td>-0.431809</td>\n",
       "      <td>2.254039</td>\n",
       "      <td>0.127606</td>\n",
       "      <td>2.528193</td>\n",
       "      <td>-0.795727</td>\n",
       "    </tr>\n",
       "    <tr>\n",
       "      <th>1</th>\n",
       "      <td>1.076813</td>\n",
       "      <td>-0.590542</td>\n",
       "      <td>-0.388056</td>\n",
       "      <td>-1.512858</td>\n",
       "      <td>1.405780</td>\n",
       "      <td>1.893224</td>\n",
       "      <td>-0.070364</td>\n",
       "    </tr>\n",
       "    <tr>\n",
       "      <th>2</th>\n",
       "      <td>1.091174</td>\n",
       "      <td>-0.500045</td>\n",
       "      <td>-0.431809</td>\n",
       "      <td>-0.591224</td>\n",
       "      <td>-0.609801</td>\n",
       "      <td>1.321752</td>\n",
       "      <td>-0.740403</td>\n",
       "    </tr>\n",
       "    <tr>\n",
       "      <th>3</th>\n",
       "      <td>1.141435</td>\n",
       "      <td>0.721663</td>\n",
       "      <td>-0.247077</td>\n",
       "      <td>1.814568</td>\n",
       "      <td>1.092381</td>\n",
       "      <td>2.591690</td>\n",
       "      <td>-0.900229</td>\n",
       "    </tr>\n",
       "    <tr>\n",
       "      <th>4</th>\n",
       "      <td>1.148616</td>\n",
       "      <td>-0.138058</td>\n",
       "      <td>-0.524174</td>\n",
       "      <td>0.119464</td>\n",
       "      <td>0.029285</td>\n",
       "      <td>2.337703</td>\n",
       "      <td>-0.611313</td>\n",
       "    </tr>\n",
       "  </tbody>\n",
       "</table>\n",
       "</div>"
      ],
      "text/plain": [
       "       Time  avg_rss12  var_rss12  avg_rss13  var_rss13  avg_rss23  var_rss23\n",
       "0  1.069633   0.766911  -0.431809   2.254039   0.127606   2.528193  -0.795727\n",
       "1  1.076813  -0.590542  -0.388056  -1.512858   1.405780   1.893224  -0.070364\n",
       "2  1.091174  -0.500045  -0.431809  -0.591224  -0.609801   1.321752  -0.740403\n",
       "3  1.141435   0.721663  -0.247077   1.814568   1.092381   2.591690  -0.900229\n",
       "4  1.148616  -0.138058  -0.524174   0.119464   0.029285   2.337703  -0.611313"
      ]
     },
     "execution_count": 522,
     "metadata": {},
     "output_type": "execute_result"
    }
   ],
   "source": [
    "x.head()"
   ]
  },
  {
   "cell_type": "code",
   "execution_count": 523,
   "id": "ece43f75-a07c-4717-a7e9-f95614bab1e3",
   "metadata": {},
   "outputs": [],
   "source": [
    "y = pd.read_csv(\"D:\\Data-Science-D-drive/sensor_placement_LogisticRegression/data/sensor_placement/Y_resampled.csv\")"
   ]
  },
  {
   "cell_type": "code",
   "execution_count": 524,
   "id": "cd22601a-7f5b-4467-89cf-614d3bec0a8d",
   "metadata": {},
   "outputs": [
    {
     "data": {
      "text/html": [
       "<div>\n",
       "<style scoped>\n",
       "    .dataframe tbody tr th:only-of-type {\n",
       "        vertical-align: middle;\n",
       "    }\n",
       "\n",
       "    .dataframe tbody tr th {\n",
       "        vertical-align: top;\n",
       "    }\n",
       "\n",
       "    .dataframe thead th {\n",
       "        text-align: right;\n",
       "    }\n",
       "</style>\n",
       "<table border=\"1\" class=\"dataframe\">\n",
       "  <thead>\n",
       "    <tr style=\"text-align: right;\">\n",
       "      <th></th>\n",
       "      <th>Output</th>\n",
       "    </tr>\n",
       "  </thead>\n",
       "  <tbody>\n",
       "    <tr>\n",
       "      <th>0</th>\n",
       "      <td>0</td>\n",
       "    </tr>\n",
       "    <tr>\n",
       "      <th>1</th>\n",
       "      <td>0</td>\n",
       "    </tr>\n",
       "    <tr>\n",
       "      <th>2</th>\n",
       "      <td>0</td>\n",
       "    </tr>\n",
       "    <tr>\n",
       "      <th>3</th>\n",
       "      <td>0</td>\n",
       "    </tr>\n",
       "    <tr>\n",
       "      <th>4</th>\n",
       "      <td>0</td>\n",
       "    </tr>\n",
       "  </tbody>\n",
       "</table>\n",
       "</div>"
      ],
      "text/plain": [
       "   Output\n",
       "0       0\n",
       "1       0\n",
       "2       0\n",
       "3       0\n",
       "4       0"
      ]
     },
     "execution_count": 524,
     "metadata": {},
     "output_type": "execute_result"
    }
   ],
   "source": [
    "y.head()"
   ]
  },
  {
   "cell_type": "code",
   "execution_count": 525,
   "id": "b07bb1a5-b5f0-42c4-be39-da0c66348ff8",
   "metadata": {},
   "outputs": [],
   "source": [
    "x = x.values"
   ]
  },
  {
   "cell_type": "code",
   "execution_count": 526,
   "id": "9df73cbb-31fc-4452-b3bb-79483a709736",
   "metadata": {},
   "outputs": [],
   "source": [
    "y = y.values"
   ]
  },
  {
   "cell_type": "code",
   "execution_count": 527,
   "id": "a7348e42-4856-48d8-9d60-a56bc3d5df0e",
   "metadata": {},
   "outputs": [
    {
     "data": {
      "text/plain": [
       "7"
      ]
     },
     "execution_count": 527,
     "metadata": {},
     "output_type": "execute_result"
    }
   ],
   "source": [
    "len(np.unique(y))"
   ]
  },
  {
   "cell_type": "markdown",
   "id": "4a6c7efe-8b09-4aea-ac77-7cf308c4e0ed",
   "metadata": {
    "tags": []
   },
   "source": [
    "# Train Test Split:"
   ]
  },
  {
   "cell_type": "code",
   "execution_count": 528,
   "id": "1372ed99-c4d1-405e-b576-e764b8a9b740",
   "metadata": {},
   "outputs": [],
   "source": [
    "x_train,x_test,y_train,y_test = train_test_split(x,y,test_size = 0.30, random_state = 144)"
   ]
  },
  {
   "cell_type": "markdown",
   "id": "30c06e2d-e806-4dc2-a958-0f1d11b35b46",
   "metadata": {},
   "source": [
    "## Stratified Sampling: "
   ]
  },
  {
   "cell_type": "markdown",
   "id": "ffa628fa-4da3-497c-a396-6404503c1183",
   "metadata": {},
   "source": [
    "Maintain class distribution in each subset."
   ]
  },
  {
   "cell_type": "code",
   "execution_count": 529,
   "id": "4de99cec-b999-4a30-8ddd-7a4d14db61b0",
   "metadata": {},
   "outputs": [
    {
     "data": {
      "text/plain": [
       "array([0, 1, 2, 3, 4, 5, 6], dtype=int64)"
      ]
     },
     "execution_count": 529,
     "metadata": {},
     "output_type": "execute_result"
    }
   ],
   "source": [
    "np.unique(y_train)"
   ]
  },
  {
   "cell_type": "code",
   "execution_count": 530,
   "id": "aa7edb17-e007-4069-8a90-deb09f9767f8",
   "metadata": {},
   "outputs": [
    {
     "data": {
      "text/plain": [
       "7"
      ]
     },
     "execution_count": 530,
     "metadata": {},
     "output_type": "execute_result"
    }
   ],
   "source": [
    "len(np.unique(y_train))"
   ]
  },
  {
   "cell_type": "code",
   "execution_count": 531,
   "id": "42d19e4a-737d-4be6-af5a-92bb65815da1",
   "metadata": {},
   "outputs": [
    {
     "data": {
      "text/plain": [
       "7"
      ]
     },
     "execution_count": 531,
     "metadata": {},
     "output_type": "execute_result"
    }
   ],
   "source": [
    "len(np.unique(y_test))"
   ]
  },
  {
   "cell_type": "markdown",
   "id": "54630fd3-e48c-4974-807b-110ca8bb498c",
   "metadata": {},
   "source": [
    "# Model Selection:"
   ]
  },
  {
   "cell_type": "markdown",
   "id": "69f4d85e-4729-4437-bfff-e39ba53b2a88",
   "metadata": {
    "tags": []
   },
   "source": [
    "## Newton-CG"
   ]
  },
  {
   "cell_type": "markdown",
   "id": "37032827-baa3-4b45-84dc-b88a39f28d14",
   "metadata": {},
   "source": [
    "### l2:"
   ]
  },
  {
   "cell_type": "code",
   "execution_count": 532,
   "id": "133402fb-6d94-4c33-b5bf-6461620706d5",
   "metadata": {},
   "outputs": [],
   "source": [
    "logr_newcg_l2 = LogisticRegression(verbose = 1, solver = 'newton-cg', penalty = 'l2')"
   ]
  },
  {
   "cell_type": "code",
   "execution_count": 533,
   "id": "b6db68c8-a670-4f32-aa74-12b9d26dd15d",
   "metadata": {},
   "outputs": [
    {
     "name": "stderr",
     "output_type": "stream",
     "text": [
      "[Parallel(n_jobs=1)]: Using backend SequentialBackend with 1 concurrent workers.\n",
      "[Parallel(n_jobs=1)]: Done   1 out of   1 | elapsed:    1.9s finished\n"
     ]
    },
    {
     "data": {
      "text/html": [
       "<style>#sk-container-id-19 {color: black;}#sk-container-id-19 pre{padding: 0;}#sk-container-id-19 div.sk-toggleable {background-color: white;}#sk-container-id-19 label.sk-toggleable__label {cursor: pointer;display: block;width: 100%;margin-bottom: 0;padding: 0.3em;box-sizing: border-box;text-align: center;}#sk-container-id-19 label.sk-toggleable__label-arrow:before {content: \"▸\";float: left;margin-right: 0.25em;color: #696969;}#sk-container-id-19 label.sk-toggleable__label-arrow:hover:before {color: black;}#sk-container-id-19 div.sk-estimator:hover label.sk-toggleable__label-arrow:before {color: black;}#sk-container-id-19 div.sk-toggleable__content {max-height: 0;max-width: 0;overflow: hidden;text-align: left;background-color: #f0f8ff;}#sk-container-id-19 div.sk-toggleable__content pre {margin: 0.2em;color: black;border-radius: 0.25em;background-color: #f0f8ff;}#sk-container-id-19 input.sk-toggleable__control:checked~div.sk-toggleable__content {max-height: 200px;max-width: 100%;overflow: auto;}#sk-container-id-19 input.sk-toggleable__control:checked~label.sk-toggleable__label-arrow:before {content: \"▾\";}#sk-container-id-19 div.sk-estimator input.sk-toggleable__control:checked~label.sk-toggleable__label {background-color: #d4ebff;}#sk-container-id-19 div.sk-label input.sk-toggleable__control:checked~label.sk-toggleable__label {background-color: #d4ebff;}#sk-container-id-19 input.sk-hidden--visually {border: 0;clip: rect(1px 1px 1px 1px);clip: rect(1px, 1px, 1px, 1px);height: 1px;margin: -1px;overflow: hidden;padding: 0;position: absolute;width: 1px;}#sk-container-id-19 div.sk-estimator {font-family: monospace;background-color: #f0f8ff;border: 1px dotted black;border-radius: 0.25em;box-sizing: border-box;margin-bottom: 0.5em;}#sk-container-id-19 div.sk-estimator:hover {background-color: #d4ebff;}#sk-container-id-19 div.sk-parallel-item::after {content: \"\";width: 100%;border-bottom: 1px solid gray;flex-grow: 1;}#sk-container-id-19 div.sk-label:hover label.sk-toggleable__label {background-color: #d4ebff;}#sk-container-id-19 div.sk-serial::before {content: \"\";position: absolute;border-left: 1px solid gray;box-sizing: border-box;top: 0;bottom: 0;left: 50%;z-index: 0;}#sk-container-id-19 div.sk-serial {display: flex;flex-direction: column;align-items: center;background-color: white;padding-right: 0.2em;padding-left: 0.2em;position: relative;}#sk-container-id-19 div.sk-item {position: relative;z-index: 1;}#sk-container-id-19 div.sk-parallel {display: flex;align-items: stretch;justify-content: center;background-color: white;position: relative;}#sk-container-id-19 div.sk-item::before, #sk-container-id-19 div.sk-parallel-item::before {content: \"\";position: absolute;border-left: 1px solid gray;box-sizing: border-box;top: 0;bottom: 0;left: 50%;z-index: -1;}#sk-container-id-19 div.sk-parallel-item {display: flex;flex-direction: column;z-index: 1;position: relative;background-color: white;}#sk-container-id-19 div.sk-parallel-item:first-child::after {align-self: flex-end;width: 50%;}#sk-container-id-19 div.sk-parallel-item:last-child::after {align-self: flex-start;width: 50%;}#sk-container-id-19 div.sk-parallel-item:only-child::after {width: 0;}#sk-container-id-19 div.sk-dashed-wrapped {border: 1px dashed gray;margin: 0 0.4em 0.5em 0.4em;box-sizing: border-box;padding-bottom: 0.4em;background-color: white;}#sk-container-id-19 div.sk-label label {font-family: monospace;font-weight: bold;display: inline-block;line-height: 1.2em;}#sk-container-id-19 div.sk-label-container {text-align: center;}#sk-container-id-19 div.sk-container {/* jupyter's `normalize.less` sets `[hidden] { display: none; }` but bootstrap.min.css set `[hidden] { display: none !important; }` so we also need the `!important` here to be able to override the default hidden behavior on the sphinx rendered scikit-learn.org. See: https://github.com/scikit-learn/scikit-learn/issues/21755 */display: inline-block !important;position: relative;}#sk-container-id-19 div.sk-text-repr-fallback {display: none;}</style><div id=\"sk-container-id-19\" class=\"sk-top-container\"><div class=\"sk-text-repr-fallback\"><pre>LogisticRegression(solver=&#x27;newton-cg&#x27;, verbose=1)</pre><b>In a Jupyter environment, please rerun this cell to show the HTML representation or trust the notebook. <br />On GitHub, the HTML representation is unable to render, please try loading this page with nbviewer.org.</b></div><div class=\"sk-container\" hidden><div class=\"sk-item\"><div class=\"sk-estimator sk-toggleable\"><input class=\"sk-toggleable__control sk-hidden--visually\" id=\"sk-estimator-id-19\" type=\"checkbox\" checked><label for=\"sk-estimator-id-19\" class=\"sk-toggleable__label sk-toggleable__label-arrow\">LogisticRegression</label><div class=\"sk-toggleable__content\"><pre>LogisticRegression(solver=&#x27;newton-cg&#x27;, verbose=1)</pre></div></div></div></div></div>"
      ],
      "text/plain": [
       "LogisticRegression(solver='newton-cg', verbose=1)"
      ]
     },
     "execution_count": 533,
     "metadata": {},
     "output_type": "execute_result"
    }
   ],
   "source": [
    "logr_newcg_l2.fit(x_train,y_train)"
   ]
  },
  {
   "cell_type": "code",
   "execution_count": 534,
   "id": "6d372c4d-902f-47cc-b6ad-694580370961",
   "metadata": {},
   "outputs": [
    {
     "data": {
      "text/plain": [
       "array([2], dtype=int64)"
      ]
     },
     "execution_count": 534,
     "metadata": {},
     "output_type": "execute_result"
    }
   ],
   "source": [
    "logr_newcg_l2.predict([x_test[1]])"
   ]
  },
  {
   "cell_type": "code",
   "execution_count": 535,
   "id": "ef3506d3-994c-43f0-8fea-b6a188158f0b",
   "metadata": {},
   "outputs": [
    {
     "data": {
      "text/plain": [
       "array([2], dtype=int64)"
      ]
     },
     "execution_count": 535,
     "metadata": {},
     "output_type": "execute_result"
    }
   ],
   "source": [
    "y_test[1]"
   ]
  },
  {
   "cell_type": "code",
   "execution_count": 536,
   "id": "5fd12dd5-1608-4a4e-a80d-29ef9e1081fa",
   "metadata": {},
   "outputs": [],
   "source": [
    "y_pred_newcg_l2 = logr_newcg_l2.predict(x_test)"
   ]
  },
  {
   "cell_type": "code",
   "execution_count": 537,
   "id": "eea95d12-820d-4c47-a717-519a7f5a890e",
   "metadata": {},
   "outputs": [
    {
     "data": {
      "text/plain": [
       "array([[1657,   29,   24,    0,  157,   41,    0],\n",
       "       [ 127, 1434,   67,  103,   33,    5,   17],\n",
       "       [  34,   82, 1055,    5,   87,   16,  561],\n",
       "       [   0,   74,   11, 1658,   21,  102,    8],\n",
       "       [ 387,  143,   41,  218,  547,  482,    4],\n",
       "       [  72,    9,   37,  141,  408, 1181,    6],\n",
       "       [   3,   77,  646,    3,   11,    3, 1219]], dtype=int64)"
      ]
     },
     "execution_count": 537,
     "metadata": {},
     "output_type": "execute_result"
    }
   ],
   "source": [
    "confusion_matrix(y_test,y_pred_newcg_l2)"
   ]
  },
  {
   "cell_type": "code",
   "execution_count": null,
   "id": "a4389836-059d-4e9d-8250-4a7efcff8dea",
   "metadata": {},
   "outputs": [],
   "source": []
  },
  {
   "cell_type": "markdown",
   "id": "90ff98c1-da6f-430c-b71c-2d9ae4f933a5",
   "metadata": {},
   "source": [
    "## Lib-Linear"
   ]
  },
  {
   "cell_type": "code",
   "execution_count": 538,
   "id": "4f8b4a94-267f-4e81-ac94-700770d54943",
   "metadata": {},
   "outputs": [],
   "source": [
    "# Liblinear wont perform well here as its not advised for multi-class classification\n",
    "logr_liblinear = LogisticRegression(verbose=1,solver='liblinear')"
   ]
  },
  {
   "cell_type": "code",
   "execution_count": 539,
   "id": "f4f3f4a9-a7be-4edd-a828-cd0e43fc3abb",
   "metadata": {},
   "outputs": [
    {
     "name": "stdout",
     "output_type": "stream",
     "text": [
      "[LibLinear]"
     ]
    },
    {
     "data": {
      "text/html": [
       "<style>#sk-container-id-20 {color: black;}#sk-container-id-20 pre{padding: 0;}#sk-container-id-20 div.sk-toggleable {background-color: white;}#sk-container-id-20 label.sk-toggleable__label {cursor: pointer;display: block;width: 100%;margin-bottom: 0;padding: 0.3em;box-sizing: border-box;text-align: center;}#sk-container-id-20 label.sk-toggleable__label-arrow:before {content: \"▸\";float: left;margin-right: 0.25em;color: #696969;}#sk-container-id-20 label.sk-toggleable__label-arrow:hover:before {color: black;}#sk-container-id-20 div.sk-estimator:hover label.sk-toggleable__label-arrow:before {color: black;}#sk-container-id-20 div.sk-toggleable__content {max-height: 0;max-width: 0;overflow: hidden;text-align: left;background-color: #f0f8ff;}#sk-container-id-20 div.sk-toggleable__content pre {margin: 0.2em;color: black;border-radius: 0.25em;background-color: #f0f8ff;}#sk-container-id-20 input.sk-toggleable__control:checked~div.sk-toggleable__content {max-height: 200px;max-width: 100%;overflow: auto;}#sk-container-id-20 input.sk-toggleable__control:checked~label.sk-toggleable__label-arrow:before {content: \"▾\";}#sk-container-id-20 div.sk-estimator input.sk-toggleable__control:checked~label.sk-toggleable__label {background-color: #d4ebff;}#sk-container-id-20 div.sk-label input.sk-toggleable__control:checked~label.sk-toggleable__label {background-color: #d4ebff;}#sk-container-id-20 input.sk-hidden--visually {border: 0;clip: rect(1px 1px 1px 1px);clip: rect(1px, 1px, 1px, 1px);height: 1px;margin: -1px;overflow: hidden;padding: 0;position: absolute;width: 1px;}#sk-container-id-20 div.sk-estimator {font-family: monospace;background-color: #f0f8ff;border: 1px dotted black;border-radius: 0.25em;box-sizing: border-box;margin-bottom: 0.5em;}#sk-container-id-20 div.sk-estimator:hover {background-color: #d4ebff;}#sk-container-id-20 div.sk-parallel-item::after {content: \"\";width: 100%;border-bottom: 1px solid gray;flex-grow: 1;}#sk-container-id-20 div.sk-label:hover label.sk-toggleable__label {background-color: #d4ebff;}#sk-container-id-20 div.sk-serial::before {content: \"\";position: absolute;border-left: 1px solid gray;box-sizing: border-box;top: 0;bottom: 0;left: 50%;z-index: 0;}#sk-container-id-20 div.sk-serial {display: flex;flex-direction: column;align-items: center;background-color: white;padding-right: 0.2em;padding-left: 0.2em;position: relative;}#sk-container-id-20 div.sk-item {position: relative;z-index: 1;}#sk-container-id-20 div.sk-parallel {display: flex;align-items: stretch;justify-content: center;background-color: white;position: relative;}#sk-container-id-20 div.sk-item::before, #sk-container-id-20 div.sk-parallel-item::before {content: \"\";position: absolute;border-left: 1px solid gray;box-sizing: border-box;top: 0;bottom: 0;left: 50%;z-index: -1;}#sk-container-id-20 div.sk-parallel-item {display: flex;flex-direction: column;z-index: 1;position: relative;background-color: white;}#sk-container-id-20 div.sk-parallel-item:first-child::after {align-self: flex-end;width: 50%;}#sk-container-id-20 div.sk-parallel-item:last-child::after {align-self: flex-start;width: 50%;}#sk-container-id-20 div.sk-parallel-item:only-child::after {width: 0;}#sk-container-id-20 div.sk-dashed-wrapped {border: 1px dashed gray;margin: 0 0.4em 0.5em 0.4em;box-sizing: border-box;padding-bottom: 0.4em;background-color: white;}#sk-container-id-20 div.sk-label label {font-family: monospace;font-weight: bold;display: inline-block;line-height: 1.2em;}#sk-container-id-20 div.sk-label-container {text-align: center;}#sk-container-id-20 div.sk-container {/* jupyter's `normalize.less` sets `[hidden] { display: none; }` but bootstrap.min.css set `[hidden] { display: none !important; }` so we also need the `!important` here to be able to override the default hidden behavior on the sphinx rendered scikit-learn.org. See: https://github.com/scikit-learn/scikit-learn/issues/21755 */display: inline-block !important;position: relative;}#sk-container-id-20 div.sk-text-repr-fallback {display: none;}</style><div id=\"sk-container-id-20\" class=\"sk-top-container\"><div class=\"sk-text-repr-fallback\"><pre>LogisticRegression(solver=&#x27;liblinear&#x27;, verbose=1)</pre><b>In a Jupyter environment, please rerun this cell to show the HTML representation or trust the notebook. <br />On GitHub, the HTML representation is unable to render, please try loading this page with nbviewer.org.</b></div><div class=\"sk-container\" hidden><div class=\"sk-item\"><div class=\"sk-estimator sk-toggleable\"><input class=\"sk-toggleable__control sk-hidden--visually\" id=\"sk-estimator-id-20\" type=\"checkbox\" checked><label for=\"sk-estimator-id-20\" class=\"sk-toggleable__label sk-toggleable__label-arrow\">LogisticRegression</label><div class=\"sk-toggleable__content\"><pre>LogisticRegression(solver=&#x27;liblinear&#x27;, verbose=1)</pre></div></div></div></div></div>"
      ],
      "text/plain": [
       "LogisticRegression(solver='liblinear', verbose=1)"
      ]
     },
     "execution_count": 539,
     "metadata": {},
     "output_type": "execute_result"
    }
   ],
   "source": [
    "logr_liblinear.fit(x_train,y_train)"
   ]
  },
  {
   "cell_type": "code",
   "execution_count": 540,
   "id": "fef07274-c6ed-42f3-992c-8aa968346ca2",
   "metadata": {},
   "outputs": [
    {
     "data": {
      "text/plain": [
       "array([2], dtype=int64)"
      ]
     },
     "execution_count": 540,
     "metadata": {},
     "output_type": "execute_result"
    }
   ],
   "source": [
    "logr_liblinear.predict([x_test[1]])"
   ]
  },
  {
   "cell_type": "code",
   "execution_count": 541,
   "id": "1c914a39-9664-4dee-bca0-c986899bc5bd",
   "metadata": {},
   "outputs": [
    {
     "data": {
      "text/plain": [
       "array([2], dtype=int64)"
      ]
     },
     "execution_count": 541,
     "metadata": {},
     "output_type": "execute_result"
    }
   ],
   "source": [
    "y_test[1]"
   ]
  },
  {
   "cell_type": "code",
   "execution_count": 542,
   "id": "a2456acd-27a1-4b2e-9283-69c7a949d254",
   "metadata": {},
   "outputs": [
    {
     "data": {
      "text/html": [
       "<style>#sk-container-id-21 {color: black;}#sk-container-id-21 pre{padding: 0;}#sk-container-id-21 div.sk-toggleable {background-color: white;}#sk-container-id-21 label.sk-toggleable__label {cursor: pointer;display: block;width: 100%;margin-bottom: 0;padding: 0.3em;box-sizing: border-box;text-align: center;}#sk-container-id-21 label.sk-toggleable__label-arrow:before {content: \"▸\";float: left;margin-right: 0.25em;color: #696969;}#sk-container-id-21 label.sk-toggleable__label-arrow:hover:before {color: black;}#sk-container-id-21 div.sk-estimator:hover label.sk-toggleable__label-arrow:before {color: black;}#sk-container-id-21 div.sk-toggleable__content {max-height: 0;max-width: 0;overflow: hidden;text-align: left;background-color: #f0f8ff;}#sk-container-id-21 div.sk-toggleable__content pre {margin: 0.2em;color: black;border-radius: 0.25em;background-color: #f0f8ff;}#sk-container-id-21 input.sk-toggleable__control:checked~div.sk-toggleable__content {max-height: 200px;max-width: 100%;overflow: auto;}#sk-container-id-21 input.sk-toggleable__control:checked~label.sk-toggleable__label-arrow:before {content: \"▾\";}#sk-container-id-21 div.sk-estimator input.sk-toggleable__control:checked~label.sk-toggleable__label {background-color: #d4ebff;}#sk-container-id-21 div.sk-label input.sk-toggleable__control:checked~label.sk-toggleable__label {background-color: #d4ebff;}#sk-container-id-21 input.sk-hidden--visually {border: 0;clip: rect(1px 1px 1px 1px);clip: rect(1px, 1px, 1px, 1px);height: 1px;margin: -1px;overflow: hidden;padding: 0;position: absolute;width: 1px;}#sk-container-id-21 div.sk-estimator {font-family: monospace;background-color: #f0f8ff;border: 1px dotted black;border-radius: 0.25em;box-sizing: border-box;margin-bottom: 0.5em;}#sk-container-id-21 div.sk-estimator:hover {background-color: #d4ebff;}#sk-container-id-21 div.sk-parallel-item::after {content: \"\";width: 100%;border-bottom: 1px solid gray;flex-grow: 1;}#sk-container-id-21 div.sk-label:hover label.sk-toggleable__label {background-color: #d4ebff;}#sk-container-id-21 div.sk-serial::before {content: \"\";position: absolute;border-left: 1px solid gray;box-sizing: border-box;top: 0;bottom: 0;left: 50%;z-index: 0;}#sk-container-id-21 div.sk-serial {display: flex;flex-direction: column;align-items: center;background-color: white;padding-right: 0.2em;padding-left: 0.2em;position: relative;}#sk-container-id-21 div.sk-item {position: relative;z-index: 1;}#sk-container-id-21 div.sk-parallel {display: flex;align-items: stretch;justify-content: center;background-color: white;position: relative;}#sk-container-id-21 div.sk-item::before, #sk-container-id-21 div.sk-parallel-item::before {content: \"\";position: absolute;border-left: 1px solid gray;box-sizing: border-box;top: 0;bottom: 0;left: 50%;z-index: -1;}#sk-container-id-21 div.sk-parallel-item {display: flex;flex-direction: column;z-index: 1;position: relative;background-color: white;}#sk-container-id-21 div.sk-parallel-item:first-child::after {align-self: flex-end;width: 50%;}#sk-container-id-21 div.sk-parallel-item:last-child::after {align-self: flex-start;width: 50%;}#sk-container-id-21 div.sk-parallel-item:only-child::after {width: 0;}#sk-container-id-21 div.sk-dashed-wrapped {border: 1px dashed gray;margin: 0 0.4em 0.5em 0.4em;box-sizing: border-box;padding-bottom: 0.4em;background-color: white;}#sk-container-id-21 div.sk-label label {font-family: monospace;font-weight: bold;display: inline-block;line-height: 1.2em;}#sk-container-id-21 div.sk-label-container {text-align: center;}#sk-container-id-21 div.sk-container {/* jupyter's `normalize.less` sets `[hidden] { display: none; }` but bootstrap.min.css set `[hidden] { display: none !important; }` so we also need the `!important` here to be able to override the default hidden behavior on the sphinx rendered scikit-learn.org. See: https://github.com/scikit-learn/scikit-learn/issues/21755 */display: inline-block !important;position: relative;}#sk-container-id-21 div.sk-text-repr-fallback {display: none;}</style><div id=\"sk-container-id-21\" class=\"sk-top-container\"><div class=\"sk-text-repr-fallback\"><pre>LogisticRegression(solver=&#x27;liblinear&#x27;, verbose=1)</pre><b>In a Jupyter environment, please rerun this cell to show the HTML representation or trust the notebook. <br />On GitHub, the HTML representation is unable to render, please try loading this page with nbviewer.org.</b></div><div class=\"sk-container\" hidden><div class=\"sk-item\"><div class=\"sk-estimator sk-toggleable\"><input class=\"sk-toggleable__control sk-hidden--visually\" id=\"sk-estimator-id-21\" type=\"checkbox\" checked><label for=\"sk-estimator-id-21\" class=\"sk-toggleable__label sk-toggleable__label-arrow\">LogisticRegression</label><div class=\"sk-toggleable__content\"><pre>LogisticRegression(solver=&#x27;liblinear&#x27;, verbose=1)</pre></div></div></div></div></div>"
      ],
      "text/plain": [
       "LogisticRegression(solver='liblinear', verbose=1)"
      ]
     },
     "execution_count": 542,
     "metadata": {},
     "output_type": "execute_result"
    }
   ],
   "source": [
    "logr_liblinear"
   ]
  },
  {
   "cell_type": "code",
   "execution_count": 543,
   "id": "57fe59b1-47bc-4b7d-8863-ae33ca626a03",
   "metadata": {},
   "outputs": [
    {
     "data": {
      "text/plain": [
       "array([3, 2, 3, ..., 4, 0, 6], dtype=int64)"
      ]
     },
     "execution_count": 543,
     "metadata": {},
     "output_type": "execute_result"
    }
   ],
   "source": [
    "y_pred_liblinear = logr_liblinear.predict(x_test)\n",
    "y_pred_liblinear"
   ]
  },
  {
   "cell_type": "code",
   "execution_count": 544,
   "id": "aaffe368-22bc-443d-a6a0-bb553b928bd2",
   "metadata": {},
   "outputs": [
    {
     "data": {
      "text/plain": [
       "array([[1684,   32,   14,    1,  104,   73,    0],\n",
       "       [ 130, 1428,   56,  126,   16,   13,   17],\n",
       "       [  54,  120,  890,   11,   58,   30,  677],\n",
       "       [   0,   90,   10, 1693,    8,   66,    7],\n",
       "       [ 471,  172,   48,  261,  275,  588,    7],\n",
       "       [  98,   15,   45,  193,  257, 1239,    7],\n",
       "       [   2,  108,  463,    3,    5,    8, 1373]], dtype=int64)"
      ]
     },
     "execution_count": 544,
     "metadata": {},
     "output_type": "execute_result"
    }
   ],
   "source": [
    "confusion_matrix(y_test,y_pred_liblinear)"
   ]
  },
  {
   "cell_type": "markdown",
   "id": "ff90809e-6c78-4017-9bf7-cd781d17d1e7",
   "metadata": {},
   "source": [
    "## Default-lbfgs:"
   ]
  },
  {
   "cell_type": "code",
   "execution_count": 545,
   "id": "a549df95-ae5b-4d7b-8899-e1a50220707f",
   "metadata": {},
   "outputs": [],
   "source": [
    "logr = LogisticRegression(verbose=1)"
   ]
  },
  {
   "cell_type": "code",
   "execution_count": 546,
   "id": "3441e606-e11f-4fa9-9a33-e69bbd3ec21d",
   "metadata": {},
   "outputs": [
    {
     "name": "stderr",
     "output_type": "stream",
     "text": [
      "[Parallel(n_jobs=1)]: Using backend SequentialBackend with 1 concurrent workers.\n",
      "[Parallel(n_jobs=1)]: Done   1 out of   1 | elapsed:    1.7s finished\n"
     ]
    },
    {
     "data": {
      "text/html": [
       "<style>#sk-container-id-22 {color: black;}#sk-container-id-22 pre{padding: 0;}#sk-container-id-22 div.sk-toggleable {background-color: white;}#sk-container-id-22 label.sk-toggleable__label {cursor: pointer;display: block;width: 100%;margin-bottom: 0;padding: 0.3em;box-sizing: border-box;text-align: center;}#sk-container-id-22 label.sk-toggleable__label-arrow:before {content: \"▸\";float: left;margin-right: 0.25em;color: #696969;}#sk-container-id-22 label.sk-toggleable__label-arrow:hover:before {color: black;}#sk-container-id-22 div.sk-estimator:hover label.sk-toggleable__label-arrow:before {color: black;}#sk-container-id-22 div.sk-toggleable__content {max-height: 0;max-width: 0;overflow: hidden;text-align: left;background-color: #f0f8ff;}#sk-container-id-22 div.sk-toggleable__content pre {margin: 0.2em;color: black;border-radius: 0.25em;background-color: #f0f8ff;}#sk-container-id-22 input.sk-toggleable__control:checked~div.sk-toggleable__content {max-height: 200px;max-width: 100%;overflow: auto;}#sk-container-id-22 input.sk-toggleable__control:checked~label.sk-toggleable__label-arrow:before {content: \"▾\";}#sk-container-id-22 div.sk-estimator input.sk-toggleable__control:checked~label.sk-toggleable__label {background-color: #d4ebff;}#sk-container-id-22 div.sk-label input.sk-toggleable__control:checked~label.sk-toggleable__label {background-color: #d4ebff;}#sk-container-id-22 input.sk-hidden--visually {border: 0;clip: rect(1px 1px 1px 1px);clip: rect(1px, 1px, 1px, 1px);height: 1px;margin: -1px;overflow: hidden;padding: 0;position: absolute;width: 1px;}#sk-container-id-22 div.sk-estimator {font-family: monospace;background-color: #f0f8ff;border: 1px dotted black;border-radius: 0.25em;box-sizing: border-box;margin-bottom: 0.5em;}#sk-container-id-22 div.sk-estimator:hover {background-color: #d4ebff;}#sk-container-id-22 div.sk-parallel-item::after {content: \"\";width: 100%;border-bottom: 1px solid gray;flex-grow: 1;}#sk-container-id-22 div.sk-label:hover label.sk-toggleable__label {background-color: #d4ebff;}#sk-container-id-22 div.sk-serial::before {content: \"\";position: absolute;border-left: 1px solid gray;box-sizing: border-box;top: 0;bottom: 0;left: 50%;z-index: 0;}#sk-container-id-22 div.sk-serial {display: flex;flex-direction: column;align-items: center;background-color: white;padding-right: 0.2em;padding-left: 0.2em;position: relative;}#sk-container-id-22 div.sk-item {position: relative;z-index: 1;}#sk-container-id-22 div.sk-parallel {display: flex;align-items: stretch;justify-content: center;background-color: white;position: relative;}#sk-container-id-22 div.sk-item::before, #sk-container-id-22 div.sk-parallel-item::before {content: \"\";position: absolute;border-left: 1px solid gray;box-sizing: border-box;top: 0;bottom: 0;left: 50%;z-index: -1;}#sk-container-id-22 div.sk-parallel-item {display: flex;flex-direction: column;z-index: 1;position: relative;background-color: white;}#sk-container-id-22 div.sk-parallel-item:first-child::after {align-self: flex-end;width: 50%;}#sk-container-id-22 div.sk-parallel-item:last-child::after {align-self: flex-start;width: 50%;}#sk-container-id-22 div.sk-parallel-item:only-child::after {width: 0;}#sk-container-id-22 div.sk-dashed-wrapped {border: 1px dashed gray;margin: 0 0.4em 0.5em 0.4em;box-sizing: border-box;padding-bottom: 0.4em;background-color: white;}#sk-container-id-22 div.sk-label label {font-family: monospace;font-weight: bold;display: inline-block;line-height: 1.2em;}#sk-container-id-22 div.sk-label-container {text-align: center;}#sk-container-id-22 div.sk-container {/* jupyter's `normalize.less` sets `[hidden] { display: none; }` but bootstrap.min.css set `[hidden] { display: none !important; }` so we also need the `!important` here to be able to override the default hidden behavior on the sphinx rendered scikit-learn.org. See: https://github.com/scikit-learn/scikit-learn/issues/21755 */display: inline-block !important;position: relative;}#sk-container-id-22 div.sk-text-repr-fallback {display: none;}</style><div id=\"sk-container-id-22\" class=\"sk-top-container\"><div class=\"sk-text-repr-fallback\"><pre>LogisticRegression(verbose=1)</pre><b>In a Jupyter environment, please rerun this cell to show the HTML representation or trust the notebook. <br />On GitHub, the HTML representation is unable to render, please try loading this page with nbviewer.org.</b></div><div class=\"sk-container\" hidden><div class=\"sk-item\"><div class=\"sk-estimator sk-toggleable\"><input class=\"sk-toggleable__control sk-hidden--visually\" id=\"sk-estimator-id-22\" type=\"checkbox\" checked><label for=\"sk-estimator-id-22\" class=\"sk-toggleable__label sk-toggleable__label-arrow\">LogisticRegression</label><div class=\"sk-toggleable__content\"><pre>LogisticRegression(verbose=1)</pre></div></div></div></div></div>"
      ],
      "text/plain": [
       "LogisticRegression(verbose=1)"
      ]
     },
     "execution_count": 546,
     "metadata": {},
     "output_type": "execute_result"
    }
   ],
   "source": [
    "logr.fit(x_train,y_train)"
   ]
  },
  {
   "cell_type": "code",
   "execution_count": 547,
   "id": "67289aec-8d06-4633-b3db-757e601838b4",
   "metadata": {},
   "outputs": [
    {
     "data": {
      "text/html": [
       "<style>#sk-container-id-23 {color: black;}#sk-container-id-23 pre{padding: 0;}#sk-container-id-23 div.sk-toggleable {background-color: white;}#sk-container-id-23 label.sk-toggleable__label {cursor: pointer;display: block;width: 100%;margin-bottom: 0;padding: 0.3em;box-sizing: border-box;text-align: center;}#sk-container-id-23 label.sk-toggleable__label-arrow:before {content: \"▸\";float: left;margin-right: 0.25em;color: #696969;}#sk-container-id-23 label.sk-toggleable__label-arrow:hover:before {color: black;}#sk-container-id-23 div.sk-estimator:hover label.sk-toggleable__label-arrow:before {color: black;}#sk-container-id-23 div.sk-toggleable__content {max-height: 0;max-width: 0;overflow: hidden;text-align: left;background-color: #f0f8ff;}#sk-container-id-23 div.sk-toggleable__content pre {margin: 0.2em;color: black;border-radius: 0.25em;background-color: #f0f8ff;}#sk-container-id-23 input.sk-toggleable__control:checked~div.sk-toggleable__content {max-height: 200px;max-width: 100%;overflow: auto;}#sk-container-id-23 input.sk-toggleable__control:checked~label.sk-toggleable__label-arrow:before {content: \"▾\";}#sk-container-id-23 div.sk-estimator input.sk-toggleable__control:checked~label.sk-toggleable__label {background-color: #d4ebff;}#sk-container-id-23 div.sk-label input.sk-toggleable__control:checked~label.sk-toggleable__label {background-color: #d4ebff;}#sk-container-id-23 input.sk-hidden--visually {border: 0;clip: rect(1px 1px 1px 1px);clip: rect(1px, 1px, 1px, 1px);height: 1px;margin: -1px;overflow: hidden;padding: 0;position: absolute;width: 1px;}#sk-container-id-23 div.sk-estimator {font-family: monospace;background-color: #f0f8ff;border: 1px dotted black;border-radius: 0.25em;box-sizing: border-box;margin-bottom: 0.5em;}#sk-container-id-23 div.sk-estimator:hover {background-color: #d4ebff;}#sk-container-id-23 div.sk-parallel-item::after {content: \"\";width: 100%;border-bottom: 1px solid gray;flex-grow: 1;}#sk-container-id-23 div.sk-label:hover label.sk-toggleable__label {background-color: #d4ebff;}#sk-container-id-23 div.sk-serial::before {content: \"\";position: absolute;border-left: 1px solid gray;box-sizing: border-box;top: 0;bottom: 0;left: 50%;z-index: 0;}#sk-container-id-23 div.sk-serial {display: flex;flex-direction: column;align-items: center;background-color: white;padding-right: 0.2em;padding-left: 0.2em;position: relative;}#sk-container-id-23 div.sk-item {position: relative;z-index: 1;}#sk-container-id-23 div.sk-parallel {display: flex;align-items: stretch;justify-content: center;background-color: white;position: relative;}#sk-container-id-23 div.sk-item::before, #sk-container-id-23 div.sk-parallel-item::before {content: \"\";position: absolute;border-left: 1px solid gray;box-sizing: border-box;top: 0;bottom: 0;left: 50%;z-index: -1;}#sk-container-id-23 div.sk-parallel-item {display: flex;flex-direction: column;z-index: 1;position: relative;background-color: white;}#sk-container-id-23 div.sk-parallel-item:first-child::after {align-self: flex-end;width: 50%;}#sk-container-id-23 div.sk-parallel-item:last-child::after {align-self: flex-start;width: 50%;}#sk-container-id-23 div.sk-parallel-item:only-child::after {width: 0;}#sk-container-id-23 div.sk-dashed-wrapped {border: 1px dashed gray;margin: 0 0.4em 0.5em 0.4em;box-sizing: border-box;padding-bottom: 0.4em;background-color: white;}#sk-container-id-23 div.sk-label label {font-family: monospace;font-weight: bold;display: inline-block;line-height: 1.2em;}#sk-container-id-23 div.sk-label-container {text-align: center;}#sk-container-id-23 div.sk-container {/* jupyter's `normalize.less` sets `[hidden] { display: none; }` but bootstrap.min.css set `[hidden] { display: none !important; }` so we also need the `!important` here to be able to override the default hidden behavior on the sphinx rendered scikit-learn.org. See: https://github.com/scikit-learn/scikit-learn/issues/21755 */display: inline-block !important;position: relative;}#sk-container-id-23 div.sk-text-repr-fallback {display: none;}</style><div id=\"sk-container-id-23\" class=\"sk-top-container\"><div class=\"sk-text-repr-fallback\"><pre>LogisticRegression(verbose=1)</pre><b>In a Jupyter environment, please rerun this cell to show the HTML representation or trust the notebook. <br />On GitHub, the HTML representation is unable to render, please try loading this page with nbviewer.org.</b></div><div class=\"sk-container\" hidden><div class=\"sk-item\"><div class=\"sk-estimator sk-toggleable\"><input class=\"sk-toggleable__control sk-hidden--visually\" id=\"sk-estimator-id-23\" type=\"checkbox\" checked><label for=\"sk-estimator-id-23\" class=\"sk-toggleable__label sk-toggleable__label-arrow\">LogisticRegression</label><div class=\"sk-toggleable__content\"><pre>LogisticRegression(verbose=1)</pre></div></div></div></div></div>"
      ],
      "text/plain": [
       "LogisticRegression(verbose=1)"
      ]
     },
     "execution_count": 547,
     "metadata": {},
     "output_type": "execute_result"
    }
   ],
   "source": [
    "logr"
   ]
  },
  {
   "cell_type": "code",
   "execution_count": 548,
   "id": "87c3a590-e06f-45c4-a01f-859e940740fe",
   "metadata": {},
   "outputs": [],
   "source": [
    "y_pred_default = logr.predict(x_test)"
   ]
  },
  {
   "cell_type": "code",
   "execution_count": 549,
   "id": "04f1ff75-1024-43f1-ab13-86e7e3eeaaa5",
   "metadata": {},
   "outputs": [
    {
     "data": {
      "text/plain": [
       "array([3, 2, 3, ..., 4, 0, 6], dtype=int64)"
      ]
     },
     "execution_count": 549,
     "metadata": {},
     "output_type": "execute_result"
    }
   ],
   "source": [
    "y_pred_default"
   ]
  },
  {
   "cell_type": "code",
   "execution_count": 550,
   "id": "c84df71c-9147-42d5-bc47-c3fb8997126a",
   "metadata": {},
   "outputs": [
    {
     "data": {
      "text/plain": [
       "array([[1657,   29,   24,    0,  157,   41,    0],\n",
       "       [ 127, 1434,   67,  103,   33,    5,   17],\n",
       "       [  34,   82, 1055,    5,   87,   16,  561],\n",
       "       [   0,   74,   11, 1658,   21,  102,    8],\n",
       "       [ 387,  143,   41,  218,  547,  482,    4],\n",
       "       [  72,    9,   37,  141,  407, 1182,    6],\n",
       "       [   3,   77,  646,    3,   11,    3, 1219]], dtype=int64)"
      ]
     },
     "execution_count": 550,
     "metadata": {},
     "output_type": "execute_result"
    }
   ],
   "source": [
    "confusion_matrix(y_test,y_pred_default)"
   ]
  },
  {
   "cell_type": "markdown",
   "id": "9ce8f96a-579d-478b-a59c-a65b1de30267",
   "metadata": {},
   "source": [
    "## Automated"
   ]
  },
  {
   "cell_type": "code",
   "execution_count": 551,
   "id": "e23a828b-cff5-4604-9ca2-562ddbe325a3",
   "metadata": {},
   "outputs": [],
   "source": [
    "solver_params = {\n",
    "    'lbfgs': ['l2', None],\n",
    "    'liblinear': ['l1', 'l2'],\n",
    "    'newton-cg': ['l2', None],\n",
    "    'newton-cholesky': ['l2', None],\n",
    "    'sag': ['l2', None],\n",
    "    'saga': ['elasticnet', 'l1', 'l2', None]\n",
    "}"
   ]
  },
  {
   "cell_type": "code",
   "execution_count": 552,
   "id": "b8054b35-9181-4fdd-9c8b-d56d265ebbc3",
   "metadata": {},
   "outputs": [],
   "source": [
    "solver_list = list(solver_params.keys())"
   ]
  },
  {
   "cell_type": "code",
   "execution_count": 553,
   "id": "86588500-401f-410f-bf23-999a120b1df0",
   "metadata": {},
   "outputs": [
    {
     "data": {
      "text/plain": [
       "['lbfgs', 'liblinear', 'newton-cg', 'newton-cholesky', 'sag', 'saga']"
      ]
     },
     "execution_count": 553,
     "metadata": {},
     "output_type": "execute_result"
    }
   ],
   "source": [
    "solver_list"
   ]
  },
  {
   "cell_type": "code",
   "execution_count": 554,
   "id": "44de1c27-0fe3-4940-8a82-2ce209cc3f50",
   "metadata": {},
   "outputs": [],
   "source": [
    "penalty_list = list(solver_params.values())"
   ]
  },
  {
   "cell_type": "code",
   "execution_count": 555,
   "id": "86b26a67-b7f0-45fa-b00d-6ef60f1d54ce",
   "metadata": {},
   "outputs": [
    {
     "data": {
      "text/plain": [
       "[['l2', None],\n",
       " ['l1', 'l2'],\n",
       " ['l2', None],\n",
       " ['l2', None],\n",
       " ['l2', None],\n",
       " ['elasticnet', 'l1', 'l2', None]]"
      ]
     },
     "execution_count": 555,
     "metadata": {},
     "output_type": "execute_result"
    }
   ],
   "source": [
    "penalty_list"
   ]
  },
  {
   "cell_type": "code",
   "execution_count": 556,
   "id": "a24eb57a-a09f-4500-b902-914c84b4ed81",
   "metadata": {},
   "outputs": [],
   "source": [
    "total_length = 0\n",
    "for inner_list in penalty_list:\n",
    "    total_length = total_length + len(inner_list)"
   ]
  },
  {
   "cell_type": "code",
   "execution_count": 557,
   "id": "6e4517ce-2a07-4642-af8c-320fc73a0986",
   "metadata": {},
   "outputs": [
    {
     "data": {
      "text/plain": [
       "14"
      ]
     },
     "execution_count": 557,
     "metadata": {},
     "output_type": "execute_result"
    }
   ],
   "source": [
    "total_length"
   ]
  },
  {
   "cell_type": "code",
   "execution_count": 558,
   "id": "b3de26b0-ccbe-479c-b672-30cfd09af8d2",
   "metadata": {},
   "outputs": [
    {
     "name": "stdout",
     "output_type": "stream",
     "text": [
      "lbfgs\n",
      "liblinear\n",
      "newton-cg\n",
      "newton-cholesky\n",
      "sag\n",
      "saga\n"
     ]
    }
   ],
   "source": [
    "for solver in solver_list:\n",
    "    print(solver)"
   ]
  },
  {
   "cell_type": "code",
   "execution_count": 559,
   "id": "37bc92ec-4d20-40b3-84d7-c361a0d4bc63",
   "metadata": {},
   "outputs": [
    {
     "name": "stdout",
     "output_type": "stream",
     "text": [
      "l2\n",
      "None\n"
     ]
    }
   ],
   "source": [
    "for penalty in penalty_list[0]:\n",
    "    print(penalty)"
   ]
  },
  {
   "cell_type": "code",
   "execution_count": 560,
   "id": "eb6ab3fc-140d-4578-89c9-61ad3b77ea93",
   "metadata": {},
   "outputs": [
    {
     "data": {
      "text/plain": [
       "{'lbfgs': ['l2', None],\n",
       " 'liblinear': ['l1', 'l2'],\n",
       " 'newton-cg': ['l2', None],\n",
       " 'newton-cholesky': ['l2', None],\n",
       " 'sag': ['l2', None],\n",
       " 'saga': ['elasticnet', 'l1', 'l2', None]}"
      ]
     },
     "execution_count": 560,
     "metadata": {},
     "output_type": "execute_result"
    }
   ],
   "source": [
    "solver_params"
   ]
  },
  {
   "cell_type": "code",
   "execution_count": 561,
   "id": "4576ded8-6806-469c-bc36-cedc8ba6c5e2",
   "metadata": {},
   "outputs": [
    {
     "name": "stdout",
     "output_type": "stream",
     "text": [
      "lbfgs\n",
      "l2\n",
      "None\n",
      "liblinear\n",
      "l1\n",
      "l2\n",
      "newton-cg\n",
      "l2\n",
      "None\n",
      "newton-cholesky\n",
      "l2\n",
      "None\n",
      "sag\n",
      "l2\n",
      "None\n",
      "saga\n",
      "elasticnet\n",
      "l1\n",
      "l2\n",
      "None\n"
     ]
    }
   ],
   "source": [
    "for solver_f in solver_params:\n",
    "    print(solver_f)\n",
    "    #for i in range(len(solver_params[solver_f])):\n",
    "    for penalty_f in solver_params[solver_f]:\n",
    "        print(penalty_f)"
   ]
  },
  {
   "cell_type": "markdown",
   "id": "13758d04-270d-41ae-8801-2ab75a024e3b",
   "metadata": {},
   "source": [
    "### Calculation:"
   ]
  },
  {
   "cell_type": "code",
   "execution_count": 562,
   "id": "08d260d5-d416-4482-bac5-6a71cbc986c8",
   "metadata": {},
   "outputs": [
    {
     "data": {
      "text/plain": [
       "'\\n# Calculate confusion matrix\\ncm = confusion_matrix(y_true, y_pred)\\n\\n# Display the confusion matrix\\nprint(\"Confusion Matrix:\")\\nprint(cm)\\n\\n# Plot the confusion matrix using seaborn\\nplt.figure(figsize=(8, 6))\\nsns.heatmap(cm, annot=True, fmt=\"d\", cmap=\"Blues\", xticklabels=range(7), yticklabels=range(7))\\nplt.xlabel(\"Predicted\")\\nplt.ylabel(\"True\")\\nplt.title(\"Confusion Matrix\")\\nplt.show()\\n\\n# Additional metrics\\naccuracy = metrics.accuracy_score(y_true, y_pred)\\nprecision = metrics.precision_score(y_true, y_pred, average=\\'weighted\\')\\nrecall = metrics.recall_score(y_true, y_pred, average=\\'weighted\\')\\nf1_score = metrics.f1_score(y_true, y_pred, average=\\'weighted\\')\\n\\nprint(f\"Accuracy: {accuracy:.4f}\")\\nprint(f\"Precision: {precision:.4f}\")\\nprint(f\"Recall: {recall:.4f}\")\\nprint(f\"F1 Score: {f1_score:.4f}\")\\n'"
      ]
     },
     "execution_count": 562,
     "metadata": {},
     "output_type": "execute_result"
    }
   ],
   "source": [
    "\"\"\"\n",
    "# Calculate confusion matrix\n",
    "cm = confusion_matrix(y_true, y_pred)\n",
    "\n",
    "# Display the confusion matrix\n",
    "print(\"Confusion Matrix:\")\n",
    "print(cm)\n",
    "\n",
    "# Plot the confusion matrix using seaborn\n",
    "plt.figure(figsize=(8, 6))\n",
    "sns.heatmap(cm, annot=True, fmt=\"d\", cmap=\"Blues\", xticklabels=range(7), yticklabels=range(7))\n",
    "plt.xlabel(\"Predicted\")\n",
    "plt.ylabel(\"True\")\n",
    "plt.title(\"Confusion Matrix\")\n",
    "plt.show()\n",
    "\n",
    "# Additional metrics\n",
    "accuracy = metrics.accuracy_score(y_true, y_pred)\n",
    "precision = metrics.precision_score(y_true, y_pred, average='weighted')\n",
    "recall = metrics.recall_score(y_true, y_pred, average='weighted')\n",
    "f1_score = metrics.f1_score(y_true, y_pred, average='weighted')\n",
    "\n",
    "print(f\"Accuracy: {accuracy:.4f}\")\n",
    "print(f\"Precision: {precision:.4f}\")\n",
    "print(f\"Recall: {recall:.4f}\")\n",
    "print(f\"F1 Score: {f1_score:.4f}\")\n",
    "\"\"\""
   ]
  },
  {
   "cell_type": "code",
   "execution_count": 563,
   "id": "829da7f1-d852-4130-b25d-0ef04eb5375e",
   "metadata": {},
   "outputs": [
    {
     "name": "stderr",
     "output_type": "stream",
     "text": [
      "[Parallel(n_jobs=1)]: Using backend SequentialBackend with 1 concurrent workers.\n",
      "[Parallel(n_jobs=1)]: Done   1 out of   1 | elapsed:    0.7s finished\n",
      "[Parallel(n_jobs=1)]: Using backend SequentialBackend with 1 concurrent workers.\n",
      "[Parallel(n_jobs=1)]: Done   1 out of   1 | elapsed:    1.0s finished\n"
     ]
    },
    {
     "name": "stdout",
     "output_type": "stream",
     "text": [
      "[LibLinear][LibLinear]"
     ]
    },
    {
     "name": "stderr",
     "output_type": "stream",
     "text": [
      "[Parallel(n_jobs=1)]: Using backend SequentialBackend with 1 concurrent workers.\n",
      "[Parallel(n_jobs=1)]: Done   1 out of   1 | elapsed:    2.4s finished\n",
      "[Parallel(n_jobs=1)]: Using backend SequentialBackend with 1 concurrent workers.\n",
      "[Parallel(n_jobs=1)]: Done   1 out of   1 | elapsed:    1.7s finished\n",
      "[Parallel(n_jobs=1)]: Using backend SequentialBackend with 1 concurrent workers.\n"
     ]
    },
    {
     "name": "stdout",
     "output_type": "stream",
     "text": [
      "Newton iter=1\n",
      "  Check Convergence\n",
      "    1. max |gradient| 0.08081939195860625 <= 0.0001\n",
      "Newton iter=2\n",
      "  Check Convergence\n",
      "    1. max |gradient| 0.033050454116673136 <= 0.0001\n",
      "Newton iter=3\n",
      "  Check Convergence\n",
      "    1. max |gradient| 0.013369321605954488 <= 0.0001\n",
      "Newton iter=4\n",
      "  Check Convergence\n",
      "    1. max |gradient| 0.004489517833530798 <= 0.0001\n",
      "Newton iter=5\n",
      "  Check Convergence\n",
      "    1. max |gradient| 0.0010136922624206862 <= 0.0001\n",
      "Newton iter=6\n",
      "  Check Convergence\n",
      "    1. max |gradient| 0.00012232196364289128 <= 0.0001\n",
      "Newton iter=7\n",
      "  Check Convergence\n",
      "    1. max |gradient| 3.196774448739338e-06 <= 0.0001\n",
      "    2. Newton decrement 5.518555613160944e-06 <= 0.0001\n",
      "  Solver did converge at loss = 0.16808671056012006.\n",
      "Newton iter=1\n",
      "  Check Convergence\n",
      "    1. max |gradient| 0.08317947282223107 <= 0.0001\n",
      "Newton iter=2\n",
      "  Check Convergence\n",
      "    1. max |gradient| 0.027890923331777583 <= 0.0001\n",
      "Newton iter=3\n",
      "  Check Convergence\n",
      "    1. max |gradient| 0.008643381348009956 <= 0.0001\n",
      "Newton iter=4\n",
      "  Check Convergence\n",
      "    1. max |gradient| 0.0020267251194878533 <= 0.0001\n",
      "Newton iter=5\n",
      "  Check Convergence\n",
      "    1. max |gradient| 0.00023037349327414194 <= 0.0001\n",
      "Newton iter=6\n",
      "  Check Convergence\n",
      "    1. max |gradient| 4.729867839273888e-06 <= 0.0001\n",
      "    2. Newton decrement 8.55826541191187e-06 <= 0.0001\n",
      "  Solver did converge at loss = 0.16703364504696258.\n",
      "Newton iter=1\n",
      "  Check Convergence\n",
      "    1. max |gradient| 0.0691327314078466 <= 0.0001\n",
      "Newton iter=2\n",
      "  Check Convergence\n",
      "    1. max |gradient| 0.0181457630234325 <= 0.0001\n",
      "Newton iter=3\n",
      "  Check Convergence\n",
      "    1. max |gradient| 0.0034317868861037572 <= 0.0001\n",
      "Newton iter=4\n",
      "  Check Convergence\n",
      "    1. max |gradient| 0.00021206806194225985 <= 0.0001\n",
      "Newton iter=5\n",
      "  Check Convergence\n",
      "    1. max |gradient| 9.04421393031719e-07 <= 0.0001\n",
      "    2. Newton decrement 1.2058951255538284e-06 <= 0.0001\n",
      "  Solver did converge at loss = 0.3056341018147879.\n",
      "Newton iter=1\n",
      "  Check Convergence\n",
      "    1. max |gradient| 0.08389740048990135 <= 0.0001\n",
      "Newton iter=2\n",
      "  Check Convergence\n",
      "    1. max |gradient| 0.03330138723262863 <= 0.0001\n",
      "Newton iter=3\n",
      "  Check Convergence\n",
      "    1. max |gradient| 0.013138689758027377 <= 0.0001\n",
      "Newton iter=4\n",
      "  Check Convergence\n",
      "    1. max |gradient| 0.004343555978343551 <= 0.0001\n",
      "Newton iter=5\n",
      "  Check Convergence\n",
      "    1. max |gradient| 0.0008766066162807417 <= 0.0001\n",
      "Newton iter=6\n",
      "  Check Convergence\n",
      "    1. max |gradient| 6.394771448042715e-05 <= 0.0001\n",
      "    2. Newton decrement 9.593997351324147e-05 <= 0.0001\n",
      "  Solver did converge at loss = 0.1559603504062831.\n",
      "Newton iter=1\n",
      "  Check Convergence\n",
      "    1. max |gradient| 0.057576554151540935 <= 0.0001\n",
      "Newton iter=2\n",
      "  Check Convergence\n",
      "    1. max |gradient| 0.01358347217041311 <= 0.0001\n",
      "Newton iter=3\n",
      "  Check Convergence\n",
      "    1. max |gradient| 0.003516156091544041 <= 0.0001\n",
      "Newton iter=4\n",
      "  Check Convergence\n",
      "    1. max |gradient| 0.0009321588121500265 <= 0.0001\n",
      "Newton iter=5\n",
      "  Check Convergence\n",
      "    1. max |gradient| 0.00013570003382035016 <= 0.0001\n",
      "Newton iter=6\n",
      "  Check Convergence\n",
      "    1. max |gradient| 2.692617917175971e-06 <= 0.0001\n",
      "    2. Newton decrement 3.070171065735836e-06 <= 0.0001\n",
      "  Solver did converge at loss = 0.35726776353763345.\n",
      "Newton iter=1\n",
      "  Check Convergence\n",
      "    1. max |gradient| 0.0694956744427076 <= 0.0001\n",
      "Newton iter=2\n",
      "  Check Convergence\n",
      "    1. max |gradient| 0.0239987798391703 <= 0.0001\n",
      "Newton iter=3\n",
      "  Check Convergence\n",
      "    1. max |gradient| 0.008176316753191552 <= 0.0001\n",
      "Newton iter=4\n",
      "  Check Convergence\n",
      "    1. max |gradient| 0.0021216132427997227 <= 0.0001\n",
      "Newton iter=5\n",
      "  Check Convergence\n",
      "    1. max |gradient| 0.00025202315466258047 <= 0.0001\n",
      "Newton iter=6\n",
      "  Check Convergence\n",
      "    1. max |gradient| 6.092928608730623e-06 <= 0.0001\n",
      "    2. Newton decrement 7.708935153344469e-06 <= 0.0001\n",
      "  Solver did converge at loss = 0.26700973987725274.\n",
      "Newton iter=1\n",
      "  Check Convergence\n",
      "    1. max |gradient| 0.08017648243851512 <= 0.0001\n",
      "Newton iter=2\n",
      "  Check Convergence\n",
      "    1. max |gradient| 0.02437884443605031 <= 0.0001\n",
      "Newton iter=3\n",
      "  Check Convergence\n",
      "    1. max |gradient| 0.005966458345035379 <= 0.0001\n",
      "Newton iter=4\n",
      "  Check Convergence\n",
      "    1. max |gradient| 0.0007085377918329455 <= 0.0001\n",
      "Newton iter=5\n",
      "  Check Convergence\n",
      "    1. max |gradient| 1.3395636286062606e-05 <= 0.0001\n",
      "    2. Newton decrement 1.795662860508006e-05 <= 0.0001\n",
      "  Solver did converge at loss = 0.21913749211982936.\n",
      "Newton iter=1\n",
      "  Check Convergence\n",
      "    1. max |gradient| 0.08082384440430335 <= 0.0001\n",
      "Newton iter=2\n",
      "  Check Convergence\n",
      "    1. max |gradient| 0.033059632276872336 <= 0.0001\n",
      "Newton iter=3\n",
      "  Check Convergence\n",
      "    1. max |gradient| 0.013382211071190503 <= 0.0001\n",
      "Newton iter=4\n",
      "  Check Convergence\n",
      "    1. max |gradient| 0.00450436265849022 <= 0.0001\n",
      "Newton iter=5\n",
      "  Check Convergence\n",
      "    1. max |gradient| 0.0010277461913124764 <= 0.0001\n",
      "Newton iter=6\n",
      "  Check Convergence\n",
      "    1. max |gradient| 0.00012987616187066782 <= 0.0001\n",
      "Newton iter=7\n",
      "  Check Convergence\n",
      "    1. max |gradient| 3.7859302776703453e-06 <= 0.0001\n",
      "    2. Newton decrement 6.469975852563606e-06 <= 0.0001\n",
      "  Solver did converge at loss = 0.1679131641665073.\n",
      "Newton iter=1\n",
      "  Check Convergence\n",
      "    1. max |gradient| 0.08318680054118377 <= 0.0001\n",
      "Newton iter=2\n",
      "  Check Convergence\n",
      "    1. max |gradient| 0.027903247281653977 <= 0.0001\n",
      "Newton iter=3\n",
      "  Check Convergence\n",
      "    1. max |gradient| 0.008661092998222548 <= 0.0001\n",
      "Newton iter=4\n",
      "  Check Convergence\n",
      "    1. max |gradient| 0.0020451829647725114 <= 0.0001\n",
      "Newton iter=5\n",
      "  Check Convergence\n",
      "    1. max |gradient| 0.00023846592907407303 <= 0.0001\n",
      "Newton iter=6\n",
      "  Check Convergence\n",
      "    1. max |gradient| 5.219766669837958e-06 <= 0.0001\n",
      "    2. Newton decrement 9.410586570269309e-06 <= 0.0001\n",
      "  Solver did converge at loss = 0.16680422624625185.\n"
     ]
    },
    {
     "name": "stderr",
     "output_type": "stream",
     "text": [
      "[Parallel(n_jobs=1)]: Done   7 out of   7 | elapsed:    0.5s finished\n",
      "[Parallel(n_jobs=1)]: Using backend SequentialBackend with 1 concurrent workers.\n"
     ]
    },
    {
     "name": "stdout",
     "output_type": "stream",
     "text": [
      "Newton iter=1\n",
      "  Check Convergence\n",
      "    1. max |gradient| 0.06913591193128552 <= 0.0001\n",
      "Newton iter=2\n",
      "  Check Convergence\n",
      "    1. max |gradient| 0.018150161149654287 <= 0.0001\n",
      "Newton iter=3\n",
      "  Check Convergence\n",
      "    1. max |gradient| 0.0034352484626171903 <= 0.0001\n",
      "Newton iter=4\n",
      "  Check Convergence\n",
      "    1. max |gradient| 0.00021265163301065258 <= 0.0001\n",
      "Newton iter=5\n",
      "  Check Convergence\n",
      "    1. max |gradient| 9.103931898719539e-07 <= 0.0001\n",
      "    2. Newton decrement 1.2136939356784137e-06 <= 0.0001\n",
      "  Solver did converge at loss = 0.30560948289180806.\n",
      "Newton iter=1\n",
      "  Check Convergence\n",
      "    1. max |gradient| 0.08390172710314409 <= 0.0001\n",
      "Newton iter=2\n",
      "  Check Convergence\n",
      "    1. max |gradient| 0.033309267315075476 <= 0.0001\n",
      "Newton iter=3\n",
      "  Check Convergence\n",
      "    1. max |gradient| 0.013149524779894443 <= 0.0001\n",
      "Newton iter=4\n",
      "  Check Convergence\n",
      "    1. max |gradient| 0.004354682224616898 <= 0.0001\n",
      "Newton iter=5\n",
      "  Check Convergence\n",
      "    1. max |gradient| 0.0008828203101153394 <= 0.0001\n",
      "Newton iter=6\n",
      "  Check Convergence\n",
      "    1. max |gradient| 6.517120984830447e-05 <= 0.0001\n",
      "    2. Newton decrement 9.765781703362555e-05 <= 0.0001\n",
      "  Solver did converge at loss = 0.15583343408463077.\n",
      "Newton iter=1\n",
      "  Check Convergence\n",
      "    1. max |gradient| 0.05757793491981042 <= 0.0001\n",
      "Newton iter=2\n",
      "  Check Convergence\n",
      "    1. max |gradient| 0.013587905174586185 <= 0.0001\n",
      "Newton iter=3\n",
      "  Check Convergence\n",
      "    1. max |gradient| 0.0035245574897593652 <= 0.0001\n",
      "Newton iter=4\n",
      "  Check Convergence\n",
      "    1. max |gradient| 0.0009442098455040167 <= 0.0001\n",
      "Newton iter=5\n",
      "  Check Convergence\n",
      "    1. max |gradient| 0.00014117233156318648 <= 0.0001\n",
      "Newton iter=6\n",
      "  Check Convergence\n",
      "    1. max |gradient| 2.962329352225522e-06 <= 0.0001\n",
      "    2. Newton decrement 3.3572740069074416e-06 <= 0.0001\n",
      "  Solver did converge at loss = 0.35721131947664353.\n",
      "Newton iter=1\n",
      "  Check Convergence\n",
      "    1. max |gradient| 0.06949942763115526 <= 0.0001\n",
      "Newton iter=2\n",
      "  Check Convergence\n",
      "    1. max |gradient| 0.024006904370001778 <= 0.0001\n",
      "Newton iter=3\n",
      "  Check Convergence\n",
      "    1. max |gradient| 0.008186337263399344 <= 0.0001\n",
      "Newton iter=4\n",
      "  Check Convergence\n",
      "    1. max |gradient| 0.0021301149410837507 <= 0.0001\n",
      "Newton iter=5\n",
      "  Check Convergence\n",
      "    1. max |gradient| 0.0002551825387755339 <= 0.0001\n",
      "Newton iter=6\n",
      "  Check Convergence\n",
      "    1. max |gradient| 6.3370894258670245e-06 <= 0.0001\n",
      "    2. Newton decrement 7.987883577818376e-06 <= 0.0001\n",
      "  Solver did converge at loss = 0.266927703982279.\n",
      "Newton iter=1\n",
      "  Check Convergence\n",
      "    1. max |gradient| 0.08017959018504217 <= 0.0001\n",
      "Newton iter=2\n",
      "  Check Convergence\n",
      "    1. max |gradient| 0.02438354273860816 <= 0.0001\n",
      "Newton iter=3\n",
      "  Check Convergence\n",
      "    1. max |gradient| 0.005970612248495645 <= 0.0001\n",
      "Newton iter=4\n",
      "  Check Convergence\n",
      "    1. max |gradient| 0.000710066677929311 <= 0.0001\n",
      "Newton iter=5\n",
      "  Check Convergence\n",
      "    1. max |gradient| 1.3471269086932458e-05 <= 0.0001\n",
      "    2. Newton decrement 1.8057386512085145e-05 <= 0.0001\n",
      "  Solver did converge at loss = 0.2190953938297503.\n"
     ]
    },
    {
     "name": "stderr",
     "output_type": "stream",
     "text": [
      "[Parallel(n_jobs=1)]: Done   7 out of   7 | elapsed:    0.4s finished\n",
      "[Parallel(n_jobs=1)]: Using backend SequentialBackend with 1 concurrent workers.\n"
     ]
    },
    {
     "name": "stdout",
     "output_type": "stream",
     "text": [
      "convergence after 33 epochs took 1 seconds\n"
     ]
    },
    {
     "name": "stderr",
     "output_type": "stream",
     "text": [
      "[Parallel(n_jobs=1)]: Done   1 out of   1 | elapsed:    0.9s finished\n",
      "[Parallel(n_jobs=1)]: Using backend SequentialBackend with 1 concurrent workers.\n"
     ]
    },
    {
     "name": "stdout",
     "output_type": "stream",
     "text": [
      "convergence after 43 epochs took 1 seconds\n"
     ]
    },
    {
     "name": "stderr",
     "output_type": "stream",
     "text": [
      "[Parallel(n_jobs=1)]: Done   1 out of   1 | elapsed:    0.9s finished\n",
      "[Parallel(n_jobs=1)]: Using backend SequentialBackend with 1 concurrent workers.\n"
     ]
    },
    {
     "name": "stdout",
     "output_type": "stream",
     "text": [
      "convergence after 77 epochs took 4 seconds\n"
     ]
    },
    {
     "name": "stderr",
     "output_type": "stream",
     "text": [
      "[Parallel(n_jobs=1)]: Done   1 out of   1 | elapsed:    3.3s finished\n",
      "[Parallel(n_jobs=1)]: Using backend SequentialBackend with 1 concurrent workers.\n"
     ]
    },
    {
     "name": "stdout",
     "output_type": "stream",
     "text": [
      "convergence after 32 epochs took 2 seconds\n"
     ]
    },
    {
     "name": "stderr",
     "output_type": "stream",
     "text": [
      "[Parallel(n_jobs=1)]: Done   1 out of   1 | elapsed:    1.8s finished\n",
      "[Parallel(n_jobs=1)]: Using backend SequentialBackend with 1 concurrent workers.\n"
     ]
    },
    {
     "name": "stdout",
     "output_type": "stream",
     "text": [
      "convergence after 17 epochs took 1 seconds\n"
     ]
    },
    {
     "name": "stderr",
     "output_type": "stream",
     "text": [
      "[Parallel(n_jobs=1)]: Done   1 out of   1 | elapsed:    0.7s finished\n",
      "[Parallel(n_jobs=1)]: Using backend SequentialBackend with 1 concurrent workers.\n"
     ]
    },
    {
     "name": "stdout",
     "output_type": "stream",
     "text": [
      "convergence after 19 epochs took 0 seconds\n"
     ]
    },
    {
     "name": "stderr",
     "output_type": "stream",
     "text": [
      "[Parallel(n_jobs=1)]: Done   1 out of   1 | elapsed:    0.7s finished\n"
     ]
    }
   ],
   "source": [
    "models = {}\n",
    "predictions = {}\n",
    "conf_m_list = {}\n",
    "\n",
    "for solver_f in solver_params:\n",
    "    for penalty_f in solver_params[solver_f]:\n",
    "        model_name = f\"{solver_f}_{penalty_f}\"\n",
    "        \n",
    "        if penalty_f == 'elasticnet':\n",
    "            # Specify a value for l1_ratio, e.g., 0.5 (you can adjust this value)\n",
    "            l1_ratio_value = 0.5\n",
    "        else:\n",
    "            # If penalty is not elasticnet, set l1_ratio to None\n",
    "            l1_ratio_value = None\n",
    "        \n",
    "        models[model_name] = LogisticRegression(verbose=1, solver=solver_f, penalty=penalty_f, l1_ratio=l1_ratio_value)\n",
    "        models[model_name].fit(x_train, y_train)\n",
    "        \n",
    "        pred = f\"y_pred_{solver_f}_{penalty_f}\"\n",
    "        predictions[pred] = models[model_name].predict(x_test)\n",
    "        predictions[pred] = predictions[pred].reshape(-1,1)\n",
    "        \n",
    "        conf_m = f\"confm{solver_f}_{penalty_f}\"\n",
    "        conf_m_list[conf_m] = confusion_matrix(y_test,predictions[pred])"
   ]
  },
  {
   "cell_type": "code",
   "execution_count": 564,
   "id": "8d7efbf6-0974-4587-b032-e4590fb16b39",
   "metadata": {},
   "outputs": [
    {
     "data": {
      "text/plain": [
       "{'lbfgs_l2': LogisticRegression(verbose=1),\n",
       " 'lbfgs_None': LogisticRegression(penalty=None, verbose=1),\n",
       " 'liblinear_l1': LogisticRegression(penalty='l1', solver='liblinear', verbose=1),\n",
       " 'liblinear_l2': LogisticRegression(solver='liblinear', verbose=1),\n",
       " 'newton-cg_l2': LogisticRegression(solver='newton-cg', verbose=1),\n",
       " 'newton-cg_None': LogisticRegression(penalty=None, solver='newton-cg', verbose=1),\n",
       " 'newton-cholesky_l2': LogisticRegression(solver='newton-cholesky', verbose=1),\n",
       " 'newton-cholesky_None': LogisticRegression(penalty=None, solver='newton-cholesky', verbose=1),\n",
       " 'sag_l2': LogisticRegression(solver='sag', verbose=1),\n",
       " 'sag_None': LogisticRegression(penalty=None, solver='sag', verbose=1),\n",
       " 'saga_elasticnet': LogisticRegression(l1_ratio=0.5, penalty='elasticnet', solver='saga', verbose=1),\n",
       " 'saga_l1': LogisticRegression(penalty='l1', solver='saga', verbose=1),\n",
       " 'saga_l2': LogisticRegression(solver='saga', verbose=1),\n",
       " 'saga_None': LogisticRegression(penalty=None, solver='saga', verbose=1)}"
      ]
     },
     "execution_count": 564,
     "metadata": {},
     "output_type": "execute_result"
    }
   ],
   "source": [
    "models"
   ]
  },
  {
   "cell_type": "code",
   "execution_count": 492,
   "id": "05ca4e34-5699-47c9-bf21-303394b27830",
   "metadata": {},
   "outputs": [
    {
     "data": {
      "text/plain": [
       "{'lbfgs': ['l2', None],\n",
       " 'liblinear': ['l1', 'l2'],\n",
       " 'newton-cg': ['l2', None],\n",
       " 'newton-cholesky': ['l2', None],\n",
       " 'sag': ['l2', None],\n",
       " 'saga': ['elasticnet', 'l1', 'l2', None]}"
      ]
     },
     "execution_count": 492,
     "metadata": {},
     "output_type": "execute_result"
    }
   ],
   "source": [
    "solver_params"
   ]
  },
  {
   "cell_type": "code",
   "execution_count": 565,
   "id": "83ce69f9-cf24-48aa-9c85-0727b1f43813",
   "metadata": {},
   "outputs": [
    {
     "data": {
      "text/plain": [
       "array([[1658,   29,   24,    0,  156,   41,    0],\n",
       "       [ 127, 1434,   67,  103,   33,    5,   17],\n",
       "       [  34,   82, 1055,    5,   87,   16,  561],\n",
       "       [   0,   74,   11, 1658,   21,  102,    8],\n",
       "       [ 385,  143,   40,  218,  549,  483,    4],\n",
       "       [  72,    9,   37,  140,  408, 1182,    6],\n",
       "       [   3,   77,  646,    3,   11,    3, 1219]], dtype=int64)"
      ]
     },
     "execution_count": 565,
     "metadata": {},
     "output_type": "execute_result"
    }
   ],
   "source": [
    "conf_m_list[\"confmlbfgs_None\"]"
   ]
  },
  {
   "cell_type": "code",
   "execution_count": 588,
   "id": "904aee27-1cf1-4036-b949-a21cef64c00a",
   "metadata": {},
   "outputs": [
    {
     "data": {
      "text/plain": [
       "array([[3],\n",
       "       [2],\n",
       "       [3],\n",
       "       ...,\n",
       "       [4],\n",
       "       [0],\n",
       "       [6]], dtype=int64)"
      ]
     },
     "execution_count": 588,
     "metadata": {},
     "output_type": "execute_result"
    }
   ],
   "source": [
    "predictions[\"y_pred_lbfgs_l2\"]"
   ]
  },
  {
   "cell_type": "markdown",
   "id": "f8ab5c34-bf37-4dfb-b9f5-2829554557b2",
   "metadata": {},
   "source": [
    "## Model Evaluation:"
   ]
  },
  {
   "cell_type": "code",
   "execution_count": 582,
   "id": "c8b458f4-ee6a-4d76-9b43-e2916365bb87",
   "metadata": {},
   "outputs": [],
   "source": [
    "def model_eval(y_test, model_penalty, conf_dict_name, pred_dict_name):\n",
    "    \"\"\"\n",
    "    Evaluate the performance of a predictive model using various metrics.\n",
    "\n",
    "    Parameters:\n",
    "    - y_test (array-like): Ground test labels.\n",
    "    - model_penalty (str): The penalty associated with the model, used to retrieve the confusion matrix and prediction made against that model_penalty combination.\n",
    "    - conf_dict_name (dict): Dictionary containing confusion matrices with keys formatted as \"confm{model_penalty}\".\n",
    "    - pred_dict_name (dict): Dictionary containing model predictions with keys formatted as \"y_pred_{model_penalty}\".\n",
    "\n",
    "    Returns:\n",
    "    dict: A dictionary containing the evaluation metrics including Accuracy, Precision, Recall, and F1 Score.\n",
    "\n",
    "    Notes:\n",
    "    - The function uses the confusion matrix from conf_dict_name to calculate performance metrics.\n",
    "    - The confusion matrix is flattened for binary or multiclass classification.\n",
    "    - Metrics are calculated using scikit-learn functions: accuracy_score, precision_score, recall_score, f1_score.\n",
    "\n",
    "    Example:\n",
    "    >>> y_test = [0, 1, 1, 0, 1, 0]\n",
    "    >>> model_penalty = \"l1\"\n",
    "    >>> conf_dict_name = {\"confmL1\": [[2, 1], [1, 2]]}\n",
    "    >>> pred_dict_name = {\"y_pred_l1\": [0, 1, 1, 0, 1, 0]}\n",
    "    >>> result = model_eval(y_test, model_penalty, conf_dict_name, pred_dict_name)\n",
    "    >>> print(result)\n",
    "    {'Accuracy': 0.6667, 'Precision': 0.6667, 'Recall': 0.6667, 'F1 Score': 0.6667}\n",
    "    \"\"\"\n",
    "    # Example for one confusion matrix\n",
    "    conf_matrix = conf_dict_name[f\"confm{model_penalty}\"]\n",
    "\n",
    "    # Flatten the matrix if needed\n",
    "    y_test = y_test.flatten()\n",
    "    y_pred = pred_dict_name[f\"y_pred_{model_penalty}\"].flatten()\n",
    "\n",
    "    # Calculate metrics\n",
    "    accuracy = accuracy_score(y_test, y_pred)\n",
    "    result = round(accuracy, 4)\n",
    "\n",
    "    return result\n"
   ]
  },
  {
   "cell_type": "code",
   "execution_count": 583,
   "id": "d73a6ad8-2fa8-43b5-a72c-8bd81740525c",
   "metadata": {},
   "outputs": [
    {
     "data": {
      "text/plain": [
       "0.6711"
      ]
     },
     "execution_count": 583,
     "metadata": {},
     "output_type": "execute_result"
    }
   ],
   "source": [
    "model_eval(y_test,\"lbfgs_None\",conf_m_list,predictions)"
   ]
  },
  {
   "cell_type": "code",
   "execution_count": 606,
   "id": "902ed88a-532d-4562-b27b-1b1ee130a800",
   "metadata": {},
   "outputs": [],
   "source": [
    "scores = {}\n",
    "for pred in predictions:\n",
    "    model_penalty = f\"{pred.split('_')[-2]}_{pred.split('_')[-1]}\"\n",
    "    result = model_eval(y_test,model_penalty,conf_m_list,predictions)\n",
    "    scores.update({model_penalty:result})"
   ]
  },
  {
   "cell_type": "code",
   "execution_count": 607,
   "id": "2e9c3d89-6543-4753-a974-db8b0dcb12b5",
   "metadata": {},
   "outputs": [
    {
     "data": {
      "text/plain": [
       "{'lbfgs_l2': 0.6709,\n",
       " 'lbfgs_None': 0.6711,\n",
       " 'liblinear_l1': 0.658,\n",
       " 'liblinear_l2': 0.6578,\n",
       " 'newton-cg_l2': 0.6708,\n",
       " 'newton-cg_None': 0.6711,\n",
       " 'newton-cholesky_l2': 0.658,\n",
       " 'newton-cholesky_None': 0.6581,\n",
       " 'sag_l2': 0.6709,\n",
       " 'sag_None': 0.671,\n",
       " 'saga_elasticnet': 0.6709,\n",
       " 'saga_l1': 0.671,\n",
       " 'saga_l2': 0.6708,\n",
       " 'saga_None': 0.6711}"
      ]
     },
     "execution_count": 607,
     "metadata": {},
     "output_type": "execute_result"
    }
   ],
   "source": [
    "scores"
   ]
  },
  {
   "cell_type": "markdown",
   "id": "e0c53907-ec2b-41dd-9819-f7a60f755593",
   "metadata": {},
   "source": [
    "### DF Report:"
   ]
  },
  {
   "cell_type": "code",
   "execution_count": 621,
   "id": "23fb3112-59e9-4832-b84d-673d9dde8029",
   "metadata": {},
   "outputs": [],
   "source": [
    "df_scores = pd.DataFrame(list(scores.items()),columns = [\"Model Penalty\",\"Score\"])"
   ]
  },
  {
   "cell_type": "code",
   "execution_count": 619,
   "id": "e8878458-4a34-4646-b9da-ce85698f7f0c",
   "metadata": {},
   "outputs": [
    {
     "data": {
      "text/html": [
       "<div>\n",
       "<style scoped>\n",
       "    .dataframe tbody tr th:only-of-type {\n",
       "        vertical-align: middle;\n",
       "    }\n",
       "\n",
       "    .dataframe tbody tr th {\n",
       "        vertical-align: top;\n",
       "    }\n",
       "\n",
       "    .dataframe thead th {\n",
       "        text-align: right;\n",
       "    }\n",
       "</style>\n",
       "<table border=\"1\" class=\"dataframe\">\n",
       "  <thead>\n",
       "    <tr style=\"text-align: right;\">\n",
       "      <th></th>\n",
       "      <th>Model Penalty</th>\n",
       "      <th>Score</th>\n",
       "    </tr>\n",
       "  </thead>\n",
       "  <tbody>\n",
       "    <tr>\n",
       "      <th>0</th>\n",
       "      <td>lbfgs_l2</td>\n",
       "      <td>0.6709</td>\n",
       "    </tr>\n",
       "    <tr>\n",
       "      <th>1</th>\n",
       "      <td>lbfgs_None</td>\n",
       "      <td>0.6711</td>\n",
       "    </tr>\n",
       "    <tr>\n",
       "      <th>2</th>\n",
       "      <td>liblinear_l1</td>\n",
       "      <td>0.6580</td>\n",
       "    </tr>\n",
       "    <tr>\n",
       "      <th>3</th>\n",
       "      <td>liblinear_l2</td>\n",
       "      <td>0.6578</td>\n",
       "    </tr>\n",
       "    <tr>\n",
       "      <th>4</th>\n",
       "      <td>newton-cg_l2</td>\n",
       "      <td>0.6708</td>\n",
       "    </tr>\n",
       "    <tr>\n",
       "      <th>5</th>\n",
       "      <td>newton-cg_None</td>\n",
       "      <td>0.6711</td>\n",
       "    </tr>\n",
       "    <tr>\n",
       "      <th>6</th>\n",
       "      <td>newton-cholesky_l2</td>\n",
       "      <td>0.6580</td>\n",
       "    </tr>\n",
       "    <tr>\n",
       "      <th>7</th>\n",
       "      <td>newton-cholesky_None</td>\n",
       "      <td>0.6581</td>\n",
       "    </tr>\n",
       "    <tr>\n",
       "      <th>8</th>\n",
       "      <td>sag_l2</td>\n",
       "      <td>0.6709</td>\n",
       "    </tr>\n",
       "    <tr>\n",
       "      <th>9</th>\n",
       "      <td>sag_None</td>\n",
       "      <td>0.6710</td>\n",
       "    </tr>\n",
       "    <tr>\n",
       "      <th>10</th>\n",
       "      <td>saga_elasticnet</td>\n",
       "      <td>0.6709</td>\n",
       "    </tr>\n",
       "    <tr>\n",
       "      <th>11</th>\n",
       "      <td>saga_l1</td>\n",
       "      <td>0.6710</td>\n",
       "    </tr>\n",
       "    <tr>\n",
       "      <th>12</th>\n",
       "      <td>saga_l2</td>\n",
       "      <td>0.6708</td>\n",
       "    </tr>\n",
       "    <tr>\n",
       "      <th>13</th>\n",
       "      <td>saga_None</td>\n",
       "      <td>0.6711</td>\n",
       "    </tr>\n",
       "  </tbody>\n",
       "</table>\n",
       "</div>"
      ],
      "text/plain": [
       "           Model Penalty   Score\n",
       "0               lbfgs_l2  0.6709\n",
       "1             lbfgs_None  0.6711\n",
       "2           liblinear_l1  0.6580\n",
       "3           liblinear_l2  0.6578\n",
       "4           newton-cg_l2  0.6708\n",
       "5         newton-cg_None  0.6711\n",
       "6     newton-cholesky_l2  0.6580\n",
       "7   newton-cholesky_None  0.6581\n",
       "8                 sag_l2  0.6709\n",
       "9               sag_None  0.6710\n",
       "10       saga_elasticnet  0.6709\n",
       "11               saga_l1  0.6710\n",
       "12               saga_l2  0.6708\n",
       "13             saga_None  0.6711"
      ]
     },
     "execution_count": 619,
     "metadata": {},
     "output_type": "execute_result"
    }
   ],
   "source": [
    "df_scores"
   ]
  },
  {
   "cell_type": "code",
   "execution_count": null,
   "id": "a7f0b35f-b1b6-498f-8919-bedd3cb96a03",
   "metadata": {},
   "outputs": [],
   "source": [
    "df_scores.to_csv(r\"D:\\Data-Science-D-drive\\sensor_placement_LogisticRegression\\notebooks\\"
   ]
  },
  {
   "cell_type": "markdown",
   "id": "028d88df-34f5-41d3-b0ca-5db02699986a",
   "metadata": {},
   "source": [
    "#### DF Report Calculations:"
   ]
  },
  {
   "cell_type": "code",
   "execution_count": 624,
   "id": "95c8765b-7388-4795-9653-b83ce1c9d278",
   "metadata": {},
   "outputs": [
    {
     "name": "stdout",
     "output_type": "stream",
     "text": [
      "Min Accuracy Model:  liblinear_l2\n",
      "Accuracy:  65.78\n",
      "============================================================\n",
      "Max Accuracy Model:  lbfgs_None\n",
      "Accuracy:  67.11\n"
     ]
    }
   ],
   "source": [
    "# Filter rows where \"Macro_Avg_Accuracy\" column doesn't have null values\n",
    "max_index = df_scores[\"Score\"].idxmax()\n",
    "max_model_name = df_scores.loc[max_index][\"Model Penalty\"]\n",
    "max_model_acc = df_scores.loc[max_index][\"Score\"]*100\n",
    "\n",
    "min_index = df_scores[\"Score\"].idxmin()\n",
    "min_model_name = df_scores.loc[min_index][\"Model Penalty\"]\n",
    "min_model_acc = df_scores.loc[min_index][\"Score\"]*100\n",
    "\n",
    "print(\"Min Accuracy Model: \", min_model_name)\n",
    "print(\"Accuracy: \",min_model_acc)\n",
    "\n",
    "print(\"=\"*60)\n",
    "print(\"Max Accuracy Model: \",max_model_name)\n",
    "print(\"Accuracy: \",max_model_acc)"
   ]
  },
  {
   "cell_type": "code",
   "execution_count": 626,
   "id": "a1c803a3-d1dc-4044-957d-1cca1ec4f1ea",
   "metadata": {},
   "outputs": [],
   "source": [
    "max_y_pred = predictions[f\"y_pred_{max_model_name}\"]"
   ]
  },
  {
   "cell_type": "code",
   "execution_count": 628,
   "id": "f4851e7f-5e42-4299-85dc-a7838e857414",
   "metadata": {},
   "outputs": [
    {
     "name": "stdout",
     "output_type": "stream",
     "text": [
      "y_test shape: (13046, 1)\n",
      "max_y_pred shape: (13046, 1)\n"
     ]
    }
   ],
   "source": [
    "# Assuming y_true and max_y_pred are your arrays\n",
    "print(\"y_test shape:\", np.array(y_test).shape)\n",
    "print(\"max_y_pred shape:\", np.array(max_y_pred).shape)"
   ]
  },
  {
   "cell_type": "code",
   "execution_count": 629,
   "id": "1babd234-e088-4471-832d-dc71417d3c36",
   "metadata": {},
   "outputs": [
    {
     "ename": "ValueError",
     "evalue": "Target scores need to be probabilities for multiclass roc_auc, i.e. they should sum up to 1.0 over classes",
     "output_type": "error",
     "traceback": [
      "\u001b[1;31m---------------------------------------------------------------------------\u001b[0m",
      "\u001b[1;31mValueError\u001b[0m                                Traceback (most recent call last)",
      "Cell \u001b[1;32mIn[629], line 1\u001b[0m\n\u001b[1;32m----> 1\u001b[0m auc \u001b[38;5;241m=\u001b[39m \u001b[43mroc_auc_score\u001b[49m\u001b[43m(\u001b[49m\u001b[43my_test\u001b[49m\u001b[43m,\u001b[49m\u001b[43mmax_y_pred\u001b[49m\u001b[43m,\u001b[49m\u001b[43mmulti_class\u001b[49m\u001b[38;5;241;43m=\u001b[39;49m\u001b[38;5;124;43m'\u001b[39;49m\u001b[38;5;124;43movr\u001b[39;49m\u001b[38;5;124;43m'\u001b[39;49m\u001b[43m)\u001b[49m\n",
      "File \u001b[1;32mC:\\Anaconda\\lib\\site-packages\\sklearn\\utils\\_param_validation.py:214\u001b[0m, in \u001b[0;36mvalidate_params.<locals>.decorator.<locals>.wrapper\u001b[1;34m(*args, **kwargs)\u001b[0m\n\u001b[0;32m    208\u001b[0m \u001b[38;5;28;01mtry\u001b[39;00m:\n\u001b[0;32m    209\u001b[0m     \u001b[38;5;28;01mwith\u001b[39;00m config_context(\n\u001b[0;32m    210\u001b[0m         skip_parameter_validation\u001b[38;5;241m=\u001b[39m(\n\u001b[0;32m    211\u001b[0m             prefer_skip_nested_validation \u001b[38;5;129;01mor\u001b[39;00m global_skip_validation\n\u001b[0;32m    212\u001b[0m         )\n\u001b[0;32m    213\u001b[0m     ):\n\u001b[1;32m--> 214\u001b[0m         \u001b[38;5;28;01mreturn\u001b[39;00m func(\u001b[38;5;241m*\u001b[39margs, \u001b[38;5;241m*\u001b[39m\u001b[38;5;241m*\u001b[39mkwargs)\n\u001b[0;32m    215\u001b[0m \u001b[38;5;28;01mexcept\u001b[39;00m InvalidParameterError \u001b[38;5;28;01mas\u001b[39;00m e:\n\u001b[0;32m    216\u001b[0m     \u001b[38;5;66;03m# When the function is just a wrapper around an estimator, we allow\u001b[39;00m\n\u001b[0;32m    217\u001b[0m     \u001b[38;5;66;03m# the function to delegate validation to the estimator, but we replace\u001b[39;00m\n\u001b[0;32m    218\u001b[0m     \u001b[38;5;66;03m# the name of the estimator by the name of the function in the error\u001b[39;00m\n\u001b[0;32m    219\u001b[0m     \u001b[38;5;66;03m# message to avoid confusion.\u001b[39;00m\n\u001b[0;32m    220\u001b[0m     msg \u001b[38;5;241m=\u001b[39m re\u001b[38;5;241m.\u001b[39msub(\n\u001b[0;32m    221\u001b[0m         \u001b[38;5;124mr\u001b[39m\u001b[38;5;124m\"\u001b[39m\u001b[38;5;124mparameter of \u001b[39m\u001b[38;5;124m\\\u001b[39m\u001b[38;5;124mw+ must be\u001b[39m\u001b[38;5;124m\"\u001b[39m,\n\u001b[0;32m    222\u001b[0m         \u001b[38;5;124mf\u001b[39m\u001b[38;5;124m\"\u001b[39m\u001b[38;5;124mparameter of \u001b[39m\u001b[38;5;132;01m{\u001b[39;00mfunc\u001b[38;5;241m.\u001b[39m\u001b[38;5;18m__qualname__\u001b[39m\u001b[38;5;132;01m}\u001b[39;00m\u001b[38;5;124m must be\u001b[39m\u001b[38;5;124m\"\u001b[39m,\n\u001b[0;32m    223\u001b[0m         \u001b[38;5;28mstr\u001b[39m(e),\n\u001b[0;32m    224\u001b[0m     )\n",
      "File \u001b[1;32mC:\\Anaconda\\lib\\site-packages\\sklearn\\metrics\\_ranking.py:621\u001b[0m, in \u001b[0;36mroc_auc_score\u001b[1;34m(y_true, y_score, average, sample_weight, max_fpr, multi_class, labels)\u001b[0m\n\u001b[0;32m    619\u001b[0m     \u001b[38;5;28;01mif\u001b[39;00m multi_class \u001b[38;5;241m==\u001b[39m \u001b[38;5;124m\"\u001b[39m\u001b[38;5;124mraise\u001b[39m\u001b[38;5;124m\"\u001b[39m:\n\u001b[0;32m    620\u001b[0m         \u001b[38;5;28;01mraise\u001b[39;00m \u001b[38;5;167;01mValueError\u001b[39;00m(\u001b[38;5;124m\"\u001b[39m\u001b[38;5;124mmulti_class must be in (\u001b[39m\u001b[38;5;124m'\u001b[39m\u001b[38;5;124movo\u001b[39m\u001b[38;5;124m'\u001b[39m\u001b[38;5;124m, \u001b[39m\u001b[38;5;124m'\u001b[39m\u001b[38;5;124movr\u001b[39m\u001b[38;5;124m'\u001b[39m\u001b[38;5;124m)\u001b[39m\u001b[38;5;124m\"\u001b[39m)\n\u001b[1;32m--> 621\u001b[0m     \u001b[38;5;28;01mreturn\u001b[39;00m \u001b[43m_multiclass_roc_auc_score\u001b[49m\u001b[43m(\u001b[49m\n\u001b[0;32m    622\u001b[0m \u001b[43m        \u001b[49m\u001b[43my_true\u001b[49m\u001b[43m,\u001b[49m\u001b[43m \u001b[49m\u001b[43my_score\u001b[49m\u001b[43m,\u001b[49m\u001b[43m \u001b[49m\u001b[43mlabels\u001b[49m\u001b[43m,\u001b[49m\u001b[43m \u001b[49m\u001b[43mmulti_class\u001b[49m\u001b[43m,\u001b[49m\u001b[43m \u001b[49m\u001b[43maverage\u001b[49m\u001b[43m,\u001b[49m\u001b[43m \u001b[49m\u001b[43msample_weight\u001b[49m\n\u001b[0;32m    623\u001b[0m \u001b[43m    \u001b[49m\u001b[43m)\u001b[49m\n\u001b[0;32m    624\u001b[0m \u001b[38;5;28;01melif\u001b[39;00m y_type \u001b[38;5;241m==\u001b[39m \u001b[38;5;124m\"\u001b[39m\u001b[38;5;124mbinary\u001b[39m\u001b[38;5;124m\"\u001b[39m:\n\u001b[0;32m    625\u001b[0m     labels \u001b[38;5;241m=\u001b[39m np\u001b[38;5;241m.\u001b[39munique(y_true)\n",
      "File \u001b[1;32mC:\\Anaconda\\lib\\site-packages\\sklearn\\metrics\\_ranking.py:694\u001b[0m, in \u001b[0;36m_multiclass_roc_auc_score\u001b[1;34m(y_true, y_score, labels, multi_class, average, sample_weight)\u001b[0m\n\u001b[0;32m    692\u001b[0m \u001b[38;5;66;03m# validation of the input y_score\u001b[39;00m\n\u001b[0;32m    693\u001b[0m \u001b[38;5;28;01mif\u001b[39;00m \u001b[38;5;129;01mnot\u001b[39;00m np\u001b[38;5;241m.\u001b[39mallclose(\u001b[38;5;241m1\u001b[39m, y_score\u001b[38;5;241m.\u001b[39msum(axis\u001b[38;5;241m=\u001b[39m\u001b[38;5;241m1\u001b[39m)):\n\u001b[1;32m--> 694\u001b[0m     \u001b[38;5;28;01mraise\u001b[39;00m \u001b[38;5;167;01mValueError\u001b[39;00m(\n\u001b[0;32m    695\u001b[0m         \u001b[38;5;124m\"\u001b[39m\u001b[38;5;124mTarget scores need to be probabilities for multiclass \u001b[39m\u001b[38;5;124m\"\u001b[39m\n\u001b[0;32m    696\u001b[0m         \u001b[38;5;124m\"\u001b[39m\u001b[38;5;124mroc_auc, i.e. they should sum up to 1.0 over classes\u001b[39m\u001b[38;5;124m\"\u001b[39m\n\u001b[0;32m    697\u001b[0m     )\n\u001b[0;32m    699\u001b[0m \u001b[38;5;66;03m# validation for multiclass parameter specifications\u001b[39;00m\n\u001b[0;32m    700\u001b[0m average_options \u001b[38;5;241m=\u001b[39m (\u001b[38;5;124m\"\u001b[39m\u001b[38;5;124mmacro\u001b[39m\u001b[38;5;124m\"\u001b[39m, \u001b[38;5;124m\"\u001b[39m\u001b[38;5;124mweighted\u001b[39m\u001b[38;5;124m\"\u001b[39m, \u001b[38;5;28;01mNone\u001b[39;00m)\n",
      "\u001b[1;31mValueError\u001b[0m: Target scores need to be probabilities for multiclass roc_auc, i.e. they should sum up to 1.0 over classes"
     ]
    }
   ],
   "source": [
    "auc = roc_auc_score(y_test,max_y_pred,multi_class='ovr')"
   ]
  },
  {
   "cell_type": "code",
   "execution_count": null,
   "id": "a9c20134-a2ec-47be-9dca-bfca27bee7e7",
   "metadata": {},
   "outputs": [],
   "source": []
  }
 ],
 "metadata": {
  "kernelspec": {
   "display_name": "Python 3 (ipykernel)",
   "language": "python",
   "name": "python3"
  },
  "language_info": {
   "codemirror_mode": {
    "name": "ipython",
    "version": 3
   },
   "file_extension": ".py",
   "mimetype": "text/x-python",
   "name": "python",
   "nbconvert_exporter": "python",
   "pygments_lexer": "ipython3",
   "version": "3.9.13"
  }
 },
 "nbformat": 4,
 "nbformat_minor": 5
}
