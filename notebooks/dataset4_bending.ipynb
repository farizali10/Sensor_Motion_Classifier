{
 "cells": [
  {
   "cell_type": "code",
   "execution_count": 1,
   "metadata": {},
   "outputs": [],
   "source": [
    "import warnings\n",
    "# Set the warnings to be ignored\n",
    "warnings.filterwarnings('ignore')\n",
    "\n",
    "import os\n",
    "import sys\n",
    "import logging\n",
    "import pandas as pd \n",
    "import numpy as np \n",
    "from sklearn.preprocessing import StandardScaler \n",
    "from sklearn.linear_model  import Ridge,Lasso,RidgeCV, LassoCV, ElasticNet, ElasticNetCV, LogisticRegression\n",
    "from sklearn.model_selection import train_test_split\n",
    "from statsmodels.stats.outliers_influence import variance_inflation_factor \n",
    "from sklearn.metrics import accuracy_score, confusion_matrix, roc_curve, roc_auc_score\n",
    "import matplotlib.pyplot as plt\n",
    "\n",
    "from ydata_profiling import ProfileReport\n",
    "import seaborn as sns\n",
    "import pickle"
   ]
  },
  {
   "cell_type": "code",
   "execution_count": 3,
   "metadata": {},
   "outputs": [],
   "source": [
    "import re\n",
    "\n",
    "with open(r\"D:\\Data-Science-D-drive\\Datasets-D-drive\\sensor_placement\\bending2\\dataset4.csv\",'r') as tab_file:\n",
    "    with open(r\"D:\\Data-Science-D-drive\\Datasets-D-drive\\sensor_placement\\bending2\\output\\csv_dataset4.csv\",'w') as csv_file:\n",
    "        for line in tab_file:\n",
    "            file_content = re.sub(\"\\t\",\",\",line)\n",
    "\n",
    "            csv_file.write(file_content)\n"
   ]
  },
  {
   "cell_type": "code",
   "execution_count": 4,
   "metadata": {},
   "outputs": [],
   "source": [
    "csv_table = pd.read_table(r\"D:\\Data-Science-D-drive\\Datasets-D-drive\\sensor_placement\\bending2\\dataset4.csv\",sep=\"\\t\")\n",
    "csv_table.to_csv(r\"D:\\Data-Science-D-drive\\Datasets-D-drive\\sensor_placement\\bending2\\output\\csv_dataset4.csv\",index=False)"
   ]
  },
  {
   "cell_type": "code",
   "execution_count": 7,
   "metadata": {},
   "outputs": [
    {
     "data": {
      "text/html": [
       "<div>\n",
       "<style scoped>\n",
       "    .dataframe tbody tr th:only-of-type {\n",
       "        vertical-align: middle;\n",
       "    }\n",
       "\n",
       "    .dataframe tbody tr th {\n",
       "        vertical-align: top;\n",
       "    }\n",
       "\n",
       "    .dataframe thead th {\n",
       "        text-align: right;\n",
       "    }\n",
       "</style>\n",
       "<table border=\"1\" class=\"dataframe\">\n",
       "  <thead>\n",
       "    <tr style=\"text-align: right;\">\n",
       "      <th></th>\n",
       "      <th># Task: bending2</th>\n",
       "    </tr>\n",
       "  </thead>\n",
       "  <tbody>\n",
       "    <tr>\n",
       "      <th>0</th>\n",
       "      <td># Frequency (Hz): 20</td>\n",
       "    </tr>\n",
       "    <tr>\n",
       "      <th>1</th>\n",
       "      <td># Clock (millisecond): 250</td>\n",
       "    </tr>\n",
       "    <tr>\n",
       "      <th>2</th>\n",
       "      <td># Duration (seconds): 120</td>\n",
       "    </tr>\n",
       "    <tr>\n",
       "      <th>3</th>\n",
       "      <td># Columns: time,avg_rss12,var_rss12,avg_rss13,...</td>\n",
       "    </tr>\n",
       "    <tr>\n",
       "      <th>4</th>\n",
       "      <td>0 32.50 0.50 0.00 0.00 19.00 1.00</td>\n",
       "    </tr>\n",
       "    <tr>\n",
       "      <th>...</th>\n",
       "      <td>...</td>\n",
       "    </tr>\n",
       "    <tr>\n",
       "      <th>479</th>\n",
       "      <td>118750 28.67 0.47 4.67 1.25 17.33 0.47</td>\n",
       "    </tr>\n",
       "    <tr>\n",
       "      <th>480</th>\n",
       "      <td>119000 27.50 0.50 5.50 2.50 17.25 1.30</td>\n",
       "    </tr>\n",
       "    <tr>\n",
       "      <th>481</th>\n",
       "      <td>119250 28.00 0.00 6.67 0.94 17.00 1.00</td>\n",
       "    </tr>\n",
       "    <tr>\n",
       "      <th>482</th>\n",
       "      <td>119500 28.00 0.00 5.00 0.82 17.00 0.71</td>\n",
       "    </tr>\n",
       "    <tr>\n",
       "      <th>483</th>\n",
       "      <td>119750 28.00 0.00 0.00 0.00 17.00 1.00</td>\n",
       "    </tr>\n",
       "  </tbody>\n",
       "</table>\n",
       "<p>484 rows × 1 columns</p>\n",
       "</div>"
      ],
      "text/plain": [
       "                                      # Task: bending2\n",
       "0                                 # Frequency (Hz): 20\n",
       "1                           # Clock (millisecond): 250\n",
       "2                            # Duration (seconds): 120\n",
       "3    # Columns: time,avg_rss12,var_rss12,avg_rss13,...\n",
       "4                   0 32.50 0.50 0.00 0.00 19.00 1.00 \n",
       "..                                                 ...\n",
       "479            118750 28.67 0.47 4.67 1.25 17.33 0.47 \n",
       "480            119000 27.50 0.50 5.50 2.50 17.25 1.30 \n",
       "481            119250 28.00 0.00 6.67 0.94 17.00 1.00 \n",
       "482            119500 28.00 0.00 5.00 0.82 17.00 0.71 \n",
       "483            119750 28.00 0.00 0.00 0.00 17.00 1.00 \n",
       "\n",
       "[484 rows x 1 columns]"
      ]
     },
     "execution_count": 7,
     "metadata": {},
     "output_type": "execute_result"
    }
   ],
   "source": [
    "pd.read_csv(r\"D:\\Data-Science-D-drive\\Datasets-D-drive\\sensor_placement\\bending2\\output\\csv_dataset4.csv\",sep=\"\\t\")"
   ]
  },
  {
   "cell_type": "code",
   "execution_count": null,
   "metadata": {},
   "outputs": [],
   "source": [
    "pd.read_csv(r\"D:\\Data-Science-D-drive\\sensor_placement_LogisticRegression\\data\\sensor_placement\\bending2\\dataset4.csv\",sep=\"\\t\")"
   ]
  }
 ],
 "metadata": {
  "kernelspec": {
   "display_name": "Python 3",
   "language": "python",
   "name": "python3"
  },
  "language_info": {
   "codemirror_mode": {
    "name": "ipython",
    "version": 3
   },
   "file_extension": ".py",
   "mimetype": "text/x-python",
   "name": "python",
   "nbconvert_exporter": "python",
   "pygments_lexer": "ipython3",
   "version": "3.8.18"
  }
 },
 "nbformat": 4,
 "nbformat_minor": 2
}
